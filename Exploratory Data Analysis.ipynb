{
 "cells": [
  {
   "cell_type": "code",
   "execution_count": 1,
   "id": "1dfe7005",
   "metadata": {
    "_cell_guid": "b1076dfc-b9ad-4769-8c92-a6c4dae69d19",
    "_uuid": "8f2839f25d086af736a60e9eeb907d3b93b6e0e5",
    "execution": {
     "iopub.execute_input": "2024-09-16T23:53:25.759398Z",
     "iopub.status.busy": "2024-09-16T23:53:25.758814Z",
     "iopub.status.idle": "2024-09-16T23:53:26.233816Z",
     "shell.execute_reply": "2024-09-16T23:53:26.232709Z"
    },
    "papermill": {
     "duration": 0.495622,
     "end_time": "2024-09-16T23:53:26.236574",
     "exception": false,
     "start_time": "2024-09-16T23:53:25.740952",
     "status": "completed"
    },
    "tags": []
   },
   "outputs": [
    {
     "name": "stdout",
     "output_type": "stream",
     "text": [
      "/kaggle/input/um-game-playing-strength-of-mcts-variants/sample_submission.csv\n",
      "/kaggle/input/um-game-playing-strength-of-mcts-variants/train.csv\n",
      "/kaggle/input/um-game-playing-strength-of-mcts-variants/test.csv\n",
      "/kaggle/input/um-game-playing-strength-of-mcts-variants/concepts.csv\n",
      "/kaggle/input/um-game-playing-strength-of-mcts-variants/kaggle_evaluation/mcts_gateway.py\n",
      "/kaggle/input/um-game-playing-strength-of-mcts-variants/kaggle_evaluation/__init__.py\n",
      "/kaggle/input/um-game-playing-strength-of-mcts-variants/kaggle_evaluation/mcts_inference_server.py\n",
      "/kaggle/input/um-game-playing-strength-of-mcts-variants/kaggle_evaluation/core/templates.py\n",
      "/kaggle/input/um-game-playing-strength-of-mcts-variants/kaggle_evaluation/core/base_gateway.py\n",
      "/kaggle/input/um-game-playing-strength-of-mcts-variants/kaggle_evaluation/core/relay.py\n",
      "/kaggle/input/um-game-playing-strength-of-mcts-variants/kaggle_evaluation/core/kaggle_evaluation.proto\n",
      "/kaggle/input/um-game-playing-strength-of-mcts-variants/kaggle_evaluation/core/__init__.py\n",
      "/kaggle/input/um-game-playing-strength-of-mcts-variants/kaggle_evaluation/core/generated/kaggle_evaluation_pb2.py\n",
      "/kaggle/input/um-game-playing-strength-of-mcts-variants/kaggle_evaluation/core/generated/kaggle_evaluation_pb2_grpc.py\n",
      "/kaggle/input/um-game-playing-strength-of-mcts-variants/kaggle_evaluation/core/generated/__init__.py\n"
     ]
    }
   ],
   "source": [
    "# This Python 3 environment comes with many helpful analytics libraries installed\n",
    "# It is defined by the kaggle/python Docker image: https://github.com/kaggle/docker-python\n",
    "# For example, here's several helpful packages to load\n",
    "\n",
    "import numpy as np # linear algebra\n",
    "import pandas as pd # data processing, CSV file I/O (e.g. pd.read_csv)\n",
    "\n",
    "# Input data files are available in the read-only \"../input/\" directory\n",
    "# For example, running this (by clicking run or pressing Shift+Enter) will list all files under the input directory\n",
    "\n",
    "import os\n",
    "for dirname, _, filenames in os.walk('/kaggle/input'):\n",
    "    for filename in filenames:\n",
    "        print(os.path.join(dirname, filename))\n",
    "\n",
    "# You can write up to 20GB to the current directory (/kaggle/working/) that gets preserved as output when you create a version using \"Save & Run All\" \n",
    "# You can also write temporary files to /kaggle/temp/, but they won't be saved outside of the current session"
   ]
  },
  {
   "cell_type": "markdown",
   "id": "aadafc0b",
   "metadata": {
    "papermill": {
     "duration": 0.016755,
     "end_time": "2024-09-16T23:53:26.273103",
     "exception": false,
     "start_time": "2024-09-16T23:53:26.256348",
     "status": "completed"
    },
    "tags": []
   },
   "source": [
    "## Library"
   ]
  },
  {
   "cell_type": "code",
   "execution_count": 2,
   "id": "2af0501d",
   "metadata": {
    "execution": {
     "iopub.execute_input": "2024-09-16T23:53:26.305419Z",
     "iopub.status.busy": "2024-09-16T23:53:26.304780Z",
     "iopub.status.idle": "2024-09-16T23:53:31.262752Z",
     "shell.execute_reply": "2024-09-16T23:53:31.261168Z"
    },
    "papermill": {
     "duration": 4.978214,
     "end_time": "2024-09-16T23:53:31.266359",
     "exception": false,
     "start_time": "2024-09-16T23:53:26.288145",
     "status": "completed"
    },
    "tags": []
   },
   "outputs": [],
   "source": [
    "import numpy as np\n",
    "import pandas as pd\n",
    "import seaborn as sns\n",
    "import plotly.express as px\n",
    "import matplotlib.pyplot as plt\n",
    "%matplotlib inline\n",
    "from sklearn.impute import KNNImputer\n",
    "from lightgbm import LGBMRegressor\n",
    "from sklearn.ensemble import RandomForestRegressor, GradientBoostingRegressor\n",
    "from sklearn.exceptions import ConvergenceWarning\n",
    "from sklearn.linear_model import LinearRegression, Ridge, Lasso, ElasticNet\n",
    "from sklearn.neighbors import KNeighborsRegressor,LocalOutlierFactor\n",
    "from sklearn.tree import DecisionTreeRegressor\n",
    "from xgboost import XGBRegressor\n",
    "from sklearn.preprocessing import LabelEncoder,MinMaxScaler,RobustScaler\n",
    "from sklearn.model_selection import train_test_split, cross_val_score,GridSearchCV\n",
    "from sklearn.svm import SVR\n",
    "from sklearn.metrics import mean_squared_error, r2_score\n",
    "from catboost import CatBoostRegressor\n",
    "import os\n",
    "import pyarrow as pa\n",
    "import pyarrow.parquet as pq\n",
    "import polars as pl\n",
    "from sklearn.metrics import mean_absolute_error, mean_squared_error, r2_score\n",
    "\n",
    "import kaggle_evaluation.mcts_inference_server"
   ]
  },
  {
   "cell_type": "code",
   "execution_count": 3,
   "id": "0ed21fd5",
   "metadata": {
    "execution": {
     "iopub.execute_input": "2024-09-16T23:53:31.317749Z",
     "iopub.status.busy": "2024-09-16T23:53:31.315727Z",
     "iopub.status.idle": "2024-09-16T23:53:31.322388Z",
     "shell.execute_reply": "2024-09-16T23:53:31.321169Z"
    },
    "papermill": {
     "duration": 0.031118,
     "end_time": "2024-09-16T23:53:31.324894",
     "exception": false,
     "start_time": "2024-09-16T23:53:31.293776",
     "status": "completed"
    },
    "tags": []
   },
   "outputs": [],
   "source": [
    "train_path=\"/kaggle/input/um-game-playing-strength-of-mcts-variants/train.csv\"\n",
    "test_path=\"/kaggle/input/um-game-playing-strength-of-mcts-variants/test.csv\""
   ]
  },
  {
   "cell_type": "code",
   "execution_count": 4,
   "id": "62a28eef",
   "metadata": {
    "execution": {
     "iopub.execute_input": "2024-09-16T23:53:31.358346Z",
     "iopub.status.busy": "2024-09-16T23:53:31.357787Z",
     "iopub.status.idle": "2024-09-16T23:54:11.038267Z",
     "shell.execute_reply": "2024-09-16T23:54:11.036884Z"
    },
    "papermill": {
     "duration": 39.701251,
     "end_time": "2024-09-16T23:54:11.041246",
     "exception": false,
     "start_time": "2024-09-16T23:53:31.339995",
     "status": "completed"
    },
    "tags": []
   },
   "outputs": [],
   "source": [
    "train_data=pd.read_csv(train_path)\n"
   ]
  },
  {
   "cell_type": "code",
   "execution_count": 5,
   "id": "edccb2e4",
   "metadata": {
    "execution": {
     "iopub.execute_input": "2024-09-16T23:54:11.074315Z",
     "iopub.status.busy": "2024-09-16T23:54:11.073855Z",
     "iopub.status.idle": "2024-09-16T23:54:11.121445Z",
     "shell.execute_reply": "2024-09-16T23:54:11.120050Z"
    },
    "papermill": {
     "duration": 0.06715,
     "end_time": "2024-09-16T23:54:11.124315",
     "exception": false,
     "start_time": "2024-09-16T23:54:11.057165",
     "status": "completed"
    },
    "tags": []
   },
   "outputs": [],
   "source": [
    "test_data =pd.read_csv(test_path)"
   ]
  },
  {
   "cell_type": "code",
   "execution_count": 6,
   "id": "7c4ed362",
   "metadata": {
    "execution": {
     "iopub.execute_input": "2024-09-16T23:54:11.157147Z",
     "iopub.status.busy": "2024-09-16T23:54:11.156380Z",
     "iopub.status.idle": "2024-09-16T23:54:11.288967Z",
     "shell.execute_reply": "2024-09-16T23:54:11.287885Z"
    },
    "papermill": {
     "duration": 0.152305,
     "end_time": "2024-09-16T23:54:11.292087",
     "exception": false,
     "start_time": "2024-09-16T23:54:11.139782",
     "status": "completed"
    },
    "tags": []
   },
   "outputs": [
    {
     "data": {
      "text/html": [
       "<div>\n",
       "<style scoped>\n",
       "    .dataframe tbody tr th:only-of-type {\n",
       "        vertical-align: middle;\n",
       "    }\n",
       "\n",
       "    .dataframe tbody tr th {\n",
       "        vertical-align: top;\n",
       "    }\n",
       "\n",
       "    .dataframe thead th {\n",
       "        text-align: right;\n",
       "    }\n",
       "</style>\n",
       "<table border=\"1\" class=\"dataframe\">\n",
       "  <thead>\n",
       "    <tr style=\"text-align: right;\">\n",
       "      <th></th>\n",
       "      <th>Id</th>\n",
       "      <th>GameRulesetName</th>\n",
       "      <th>agent1</th>\n",
       "      <th>agent2</th>\n",
       "      <th>Properties</th>\n",
       "      <th>Format</th>\n",
       "      <th>Time</th>\n",
       "      <th>Discrete</th>\n",
       "      <th>Realtime</th>\n",
       "      <th>Turns</th>\n",
       "      <th>...</th>\n",
       "      <th>DoLudeme</th>\n",
       "      <th>Trigger</th>\n",
       "      <th>PlayoutsPerSecond</th>\n",
       "      <th>MovesPerSecond</th>\n",
       "      <th>EnglishRules</th>\n",
       "      <th>LudRules</th>\n",
       "      <th>num_wins_agent1</th>\n",
       "      <th>num_draws_agent1</th>\n",
       "      <th>num_losses_agent1</th>\n",
       "      <th>utility_agent1</th>\n",
       "    </tr>\n",
       "  </thead>\n",
       "  <tbody>\n",
       "    <tr>\n",
       "      <th>0</th>\n",
       "      <td>0</td>\n",
       "      <td>00Y</td>\n",
       "      <td>MCTS-ProgressiveHistory-0.1-MAST-false</td>\n",
       "      <td>MCTS-ProgressiveHistory-0.6-Random200-false</td>\n",
       "      <td>1</td>\n",
       "      <td>1</td>\n",
       "      <td>1</td>\n",
       "      <td>1</td>\n",
       "      <td>0</td>\n",
       "      <td>1</td>\n",
       "      <td>...</td>\n",
       "      <td>0</td>\n",
       "      <td>1</td>\n",
       "      <td>298.07</td>\n",
       "      <td>18877.17</td>\n",
       "      <td>Goal: Connect all three edge colors with a sin...</td>\n",
       "      <td>(game \"00'Y'\" (players 2) (equipment { (board ...</td>\n",
       "      <td>4</td>\n",
       "      <td>0</td>\n",
       "      <td>11</td>\n",
       "      <td>-0.466667</td>\n",
       "    </tr>\n",
       "    <tr>\n",
       "      <th>1</th>\n",
       "      <td>1</td>\n",
       "      <td>00Y</td>\n",
       "      <td>MCTS-ProgressiveHistory-0.1-MAST-false</td>\n",
       "      <td>MCTS-UCB1GRAVE-0.6-NST-true</td>\n",
       "      <td>1</td>\n",
       "      <td>1</td>\n",
       "      <td>1</td>\n",
       "      <td>1</td>\n",
       "      <td>0</td>\n",
       "      <td>1</td>\n",
       "      <td>...</td>\n",
       "      <td>0</td>\n",
       "      <td>1</td>\n",
       "      <td>298.07</td>\n",
       "      <td>18877.17</td>\n",
       "      <td>Goal: Connect all three edge colors with a sin...</td>\n",
       "      <td>(game \"00'Y'\" (players 2) (equipment { (board ...</td>\n",
       "      <td>5</td>\n",
       "      <td>0</td>\n",
       "      <td>10</td>\n",
       "      <td>-0.333333</td>\n",
       "    </tr>\n",
       "    <tr>\n",
       "      <th>2</th>\n",
       "      <td>2</td>\n",
       "      <td>00Y</td>\n",
       "      <td>MCTS-ProgressiveHistory-0.1-MAST-true</td>\n",
       "      <td>MCTS-UCB1-0.1-NST-false</td>\n",
       "      <td>1</td>\n",
       "      <td>1</td>\n",
       "      <td>1</td>\n",
       "      <td>1</td>\n",
       "      <td>0</td>\n",
       "      <td>1</td>\n",
       "      <td>...</td>\n",
       "      <td>0</td>\n",
       "      <td>1</td>\n",
       "      <td>298.07</td>\n",
       "      <td>18877.17</td>\n",
       "      <td>Goal: Connect all three edge colors with a sin...</td>\n",
       "      <td>(game \"00'Y'\" (players 2) (equipment { (board ...</td>\n",
       "      <td>7</td>\n",
       "      <td>0</td>\n",
       "      <td>8</td>\n",
       "      <td>-0.066667</td>\n",
       "    </tr>\n",
       "    <tr>\n",
       "      <th>3</th>\n",
       "      <td>3</td>\n",
       "      <td>00Y</td>\n",
       "      <td>MCTS-ProgressiveHistory-0.1-MAST-true</td>\n",
       "      <td>MCTS-UCB1-0.6-NST-false</td>\n",
       "      <td>1</td>\n",
       "      <td>1</td>\n",
       "      <td>1</td>\n",
       "      <td>1</td>\n",
       "      <td>0</td>\n",
       "      <td>1</td>\n",
       "      <td>...</td>\n",
       "      <td>0</td>\n",
       "      <td>1</td>\n",
       "      <td>298.07</td>\n",
       "      <td>18877.17</td>\n",
       "      <td>Goal: Connect all three edge colors with a sin...</td>\n",
       "      <td>(game \"00'Y'\" (players 2) (equipment { (board ...</td>\n",
       "      <td>5</td>\n",
       "      <td>0</td>\n",
       "      <td>10</td>\n",
       "      <td>-0.333333</td>\n",
       "    </tr>\n",
       "    <tr>\n",
       "      <th>4</th>\n",
       "      <td>4</td>\n",
       "      <td>00Y</td>\n",
       "      <td>MCTS-ProgressiveHistory-0.1-MAST-true</td>\n",
       "      <td>MCTS-UCB1GRAVE-1.41421356237-NST-false</td>\n",
       "      <td>1</td>\n",
       "      <td>1</td>\n",
       "      <td>1</td>\n",
       "      <td>1</td>\n",
       "      <td>0</td>\n",
       "      <td>1</td>\n",
       "      <td>...</td>\n",
       "      <td>0</td>\n",
       "      <td>1</td>\n",
       "      <td>298.07</td>\n",
       "      <td>18877.17</td>\n",
       "      <td>Goal: Connect all three edge colors with a sin...</td>\n",
       "      <td>(game \"00'Y'\" (players 2) (equipment { (board ...</td>\n",
       "      <td>5</td>\n",
       "      <td>0</td>\n",
       "      <td>10</td>\n",
       "      <td>-0.333333</td>\n",
       "    </tr>\n",
       "    <tr>\n",
       "      <th>...</th>\n",
       "      <td>...</td>\n",
       "      <td>...</td>\n",
       "      <td>...</td>\n",
       "      <td>...</td>\n",
       "      <td>...</td>\n",
       "      <td>...</td>\n",
       "      <td>...</td>\n",
       "      <td>...</td>\n",
       "      <td>...</td>\n",
       "      <td>...</td>\n",
       "      <td>...</td>\n",
       "      <td>...</td>\n",
       "      <td>...</td>\n",
       "      <td>...</td>\n",
       "      <td>...</td>\n",
       "      <td>...</td>\n",
       "      <td>...</td>\n",
       "      <td>...</td>\n",
       "      <td>...</td>\n",
       "      <td>...</td>\n",
       "      <td>...</td>\n",
       "    </tr>\n",
       "    <tr>\n",
       "      <th>233229</th>\n",
       "      <td>233229</td>\n",
       "      <td>Zuz_Mel_7x7</td>\n",
       "      <td>MCTS-UCB1Tuned-1.41421356237-NST-false</td>\n",
       "      <td>MCTS-ProgressiveHistory-1.41421356237-Random20...</td>\n",
       "      <td>1</td>\n",
       "      <td>1</td>\n",
       "      <td>1</td>\n",
       "      <td>1</td>\n",
       "      <td>0</td>\n",
       "      <td>1</td>\n",
       "      <td>...</td>\n",
       "      <td>0</td>\n",
       "      <td>0</td>\n",
       "      <td>157.52</td>\n",
       "      <td>157174.58</td>\n",
       "      <td>7x7 board. 24 pieces per player. Pieces begin ...</td>\n",
       "      <td>(game \"Zuz Mel (7x7)\" (players 2) (equipment {...</td>\n",
       "      <td>2</td>\n",
       "      <td>0</td>\n",
       "      <td>13</td>\n",
       "      <td>-0.733333</td>\n",
       "    </tr>\n",
       "    <tr>\n",
       "      <th>233230</th>\n",
       "      <td>233230</td>\n",
       "      <td>Zuz_Mel_7x7</td>\n",
       "      <td>MCTS-UCB1Tuned-1.41421356237-Random200-false</td>\n",
       "      <td>MCTS-UCB1-0.6-MAST-false</td>\n",
       "      <td>1</td>\n",
       "      <td>1</td>\n",
       "      <td>1</td>\n",
       "      <td>1</td>\n",
       "      <td>0</td>\n",
       "      <td>1</td>\n",
       "      <td>...</td>\n",
       "      <td>0</td>\n",
       "      <td>0</td>\n",
       "      <td>157.52</td>\n",
       "      <td>157174.58</td>\n",
       "      <td>7x7 board. 24 pieces per player. Pieces begin ...</td>\n",
       "      <td>(game \"Zuz Mel (7x7)\" (players 2) (equipment {...</td>\n",
       "      <td>9</td>\n",
       "      <td>1</td>\n",
       "      <td>5</td>\n",
       "      <td>0.266667</td>\n",
       "    </tr>\n",
       "    <tr>\n",
       "      <th>233231</th>\n",
       "      <td>233231</td>\n",
       "      <td>Zuz_Mel_7x7</td>\n",
       "      <td>MCTS-UCB1Tuned-1.41421356237-Random200-false</td>\n",
       "      <td>MCTS-UCB1GRAVE-1.41421356237-NST-false</td>\n",
       "      <td>1</td>\n",
       "      <td>1</td>\n",
       "      <td>1</td>\n",
       "      <td>1</td>\n",
       "      <td>0</td>\n",
       "      <td>1</td>\n",
       "      <td>...</td>\n",
       "      <td>0</td>\n",
       "      <td>0</td>\n",
       "      <td>157.52</td>\n",
       "      <td>157174.58</td>\n",
       "      <td>7x7 board. 24 pieces per player. Pieces begin ...</td>\n",
       "      <td>(game \"Zuz Mel (7x7)\" (players 2) (equipment {...</td>\n",
       "      <td>11</td>\n",
       "      <td>3</td>\n",
       "      <td>1</td>\n",
       "      <td>0.666667</td>\n",
       "    </tr>\n",
       "    <tr>\n",
       "      <th>233232</th>\n",
       "      <td>233232</td>\n",
       "      <td>Zuz_Mel_7x7</td>\n",
       "      <td>MCTS-UCB1Tuned-1.41421356237-Random200-false</td>\n",
       "      <td>MCTS-UCB1GRAVE-1.41421356237-NST-true</td>\n",
       "      <td>1</td>\n",
       "      <td>1</td>\n",
       "      <td>1</td>\n",
       "      <td>1</td>\n",
       "      <td>0</td>\n",
       "      <td>1</td>\n",
       "      <td>...</td>\n",
       "      <td>0</td>\n",
       "      <td>0</td>\n",
       "      <td>157.52</td>\n",
       "      <td>157174.58</td>\n",
       "      <td>7x7 board. 24 pieces per player. Pieces begin ...</td>\n",
       "      <td>(game \"Zuz Mel (7x7)\" (players 2) (equipment {...</td>\n",
       "      <td>24</td>\n",
       "      <td>2</td>\n",
       "      <td>4</td>\n",
       "      <td>0.666667</td>\n",
       "    </tr>\n",
       "    <tr>\n",
       "      <th>233233</th>\n",
       "      <td>233233</td>\n",
       "      <td>Zuz_Mel_7x7</td>\n",
       "      <td>MCTS-UCB1Tuned-1.41421356237-Random200-true</td>\n",
       "      <td>MCTS-UCB1Tuned-0.6-MAST-false</td>\n",
       "      <td>1</td>\n",
       "      <td>1</td>\n",
       "      <td>1</td>\n",
       "      <td>1</td>\n",
       "      <td>0</td>\n",
       "      <td>1</td>\n",
       "      <td>...</td>\n",
       "      <td>0</td>\n",
       "      <td>0</td>\n",
       "      <td>157.52</td>\n",
       "      <td>157174.58</td>\n",
       "      <td>7x7 board. 24 pieces per player. Pieces begin ...</td>\n",
       "      <td>(game \"Zuz Mel (7x7)\" (players 2) (equipment {...</td>\n",
       "      <td>9</td>\n",
       "      <td>1</td>\n",
       "      <td>5</td>\n",
       "      <td>0.266667</td>\n",
       "    </tr>\n",
       "  </tbody>\n",
       "</table>\n",
       "<p>233234 rows × 814 columns</p>\n",
       "</div>"
      ],
      "text/plain": [
       "            Id GameRulesetName                                        agent1  \\\n",
       "0            0             00Y        MCTS-ProgressiveHistory-0.1-MAST-false   \n",
       "1            1             00Y        MCTS-ProgressiveHistory-0.1-MAST-false   \n",
       "2            2             00Y         MCTS-ProgressiveHistory-0.1-MAST-true   \n",
       "3            3             00Y         MCTS-ProgressiveHistory-0.1-MAST-true   \n",
       "4            4             00Y         MCTS-ProgressiveHistory-0.1-MAST-true   \n",
       "...        ...             ...                                           ...   \n",
       "233229  233229     Zuz_Mel_7x7        MCTS-UCB1Tuned-1.41421356237-NST-false   \n",
       "233230  233230     Zuz_Mel_7x7  MCTS-UCB1Tuned-1.41421356237-Random200-false   \n",
       "233231  233231     Zuz_Mel_7x7  MCTS-UCB1Tuned-1.41421356237-Random200-false   \n",
       "233232  233232     Zuz_Mel_7x7  MCTS-UCB1Tuned-1.41421356237-Random200-false   \n",
       "233233  233233     Zuz_Mel_7x7   MCTS-UCB1Tuned-1.41421356237-Random200-true   \n",
       "\n",
       "                                                   agent2  Properties  Format  \\\n",
       "0             MCTS-ProgressiveHistory-0.6-Random200-false           1       1   \n",
       "1                             MCTS-UCB1GRAVE-0.6-NST-true           1       1   \n",
       "2                                 MCTS-UCB1-0.1-NST-false           1       1   \n",
       "3                                 MCTS-UCB1-0.6-NST-false           1       1   \n",
       "4                  MCTS-UCB1GRAVE-1.41421356237-NST-false           1       1   \n",
       "...                                                   ...         ...     ...   \n",
       "233229  MCTS-ProgressiveHistory-1.41421356237-Random20...           1       1   \n",
       "233230                           MCTS-UCB1-0.6-MAST-false           1       1   \n",
       "233231             MCTS-UCB1GRAVE-1.41421356237-NST-false           1       1   \n",
       "233232              MCTS-UCB1GRAVE-1.41421356237-NST-true           1       1   \n",
       "233233                      MCTS-UCB1Tuned-0.6-MAST-false           1       1   \n",
       "\n",
       "        Time  Discrete  Realtime  Turns  ...  DoLudeme  Trigger  \\\n",
       "0          1         1         0      1  ...         0        1   \n",
       "1          1         1         0      1  ...         0        1   \n",
       "2          1         1         0      1  ...         0        1   \n",
       "3          1         1         0      1  ...         0        1   \n",
       "4          1         1         0      1  ...         0        1   \n",
       "...      ...       ...       ...    ...  ...       ...      ...   \n",
       "233229     1         1         0      1  ...         0        0   \n",
       "233230     1         1         0      1  ...         0        0   \n",
       "233231     1         1         0      1  ...         0        0   \n",
       "233232     1         1         0      1  ...         0        0   \n",
       "233233     1         1         0      1  ...         0        0   \n",
       "\n",
       "        PlayoutsPerSecond  MovesPerSecond  \\\n",
       "0                  298.07        18877.17   \n",
       "1                  298.07        18877.17   \n",
       "2                  298.07        18877.17   \n",
       "3                  298.07        18877.17   \n",
       "4                  298.07        18877.17   \n",
       "...                   ...             ...   \n",
       "233229             157.52       157174.58   \n",
       "233230             157.52       157174.58   \n",
       "233231             157.52       157174.58   \n",
       "233232             157.52       157174.58   \n",
       "233233             157.52       157174.58   \n",
       "\n",
       "                                             EnglishRules  \\\n",
       "0       Goal: Connect all three edge colors with a sin...   \n",
       "1       Goal: Connect all three edge colors with a sin...   \n",
       "2       Goal: Connect all three edge colors with a sin...   \n",
       "3       Goal: Connect all three edge colors with a sin...   \n",
       "4       Goal: Connect all three edge colors with a sin...   \n",
       "...                                                   ...   \n",
       "233229  7x7 board. 24 pieces per player. Pieces begin ...   \n",
       "233230  7x7 board. 24 pieces per player. Pieces begin ...   \n",
       "233231  7x7 board. 24 pieces per player. Pieces begin ...   \n",
       "233232  7x7 board. 24 pieces per player. Pieces begin ...   \n",
       "233233  7x7 board. 24 pieces per player. Pieces begin ...   \n",
       "\n",
       "                                                 LudRules  num_wins_agent1  \\\n",
       "0       (game \"00'Y'\" (players 2) (equipment { (board ...                4   \n",
       "1       (game \"00'Y'\" (players 2) (equipment { (board ...                5   \n",
       "2       (game \"00'Y'\" (players 2) (equipment { (board ...                7   \n",
       "3       (game \"00'Y'\" (players 2) (equipment { (board ...                5   \n",
       "4       (game \"00'Y'\" (players 2) (equipment { (board ...                5   \n",
       "...                                                   ...              ...   \n",
       "233229  (game \"Zuz Mel (7x7)\" (players 2) (equipment {...                2   \n",
       "233230  (game \"Zuz Mel (7x7)\" (players 2) (equipment {...                9   \n",
       "233231  (game \"Zuz Mel (7x7)\" (players 2) (equipment {...               11   \n",
       "233232  (game \"Zuz Mel (7x7)\" (players 2) (equipment {...               24   \n",
       "233233  (game \"Zuz Mel (7x7)\" (players 2) (equipment {...                9   \n",
       "\n",
       "        num_draws_agent1  num_losses_agent1  utility_agent1  \n",
       "0                      0                 11       -0.466667  \n",
       "1                      0                 10       -0.333333  \n",
       "2                      0                  8       -0.066667  \n",
       "3                      0                 10       -0.333333  \n",
       "4                      0                 10       -0.333333  \n",
       "...                  ...                ...             ...  \n",
       "233229                 0                 13       -0.733333  \n",
       "233230                 1                  5        0.266667  \n",
       "233231                 3                  1        0.666667  \n",
       "233232                 2                  4        0.666667  \n",
       "233233                 1                  5        0.266667  \n",
       "\n",
       "[233234 rows x 814 columns]"
      ]
     },
     "execution_count": 6,
     "metadata": {},
     "output_type": "execute_result"
    }
   ],
   "source": [
    "train_data "
   ]
  },
  {
   "cell_type": "code",
   "execution_count": 7,
   "id": "ee945d4e",
   "metadata": {
    "execution": {
     "iopub.execute_input": "2024-09-16T23:54:11.325591Z",
     "iopub.status.busy": "2024-09-16T23:54:11.325137Z",
     "iopub.status.idle": "2024-09-16T23:54:16.809767Z",
     "shell.execute_reply": "2024-09-16T23:54:16.808721Z"
    },
    "papermill": {
     "duration": 5.504589,
     "end_time": "2024-09-16T23:54:16.812587",
     "exception": false,
     "start_time": "2024-09-16T23:54:11.307998",
     "status": "completed"
    },
    "tags": []
   },
   "outputs": [
    {
     "data": {
      "text/html": [
       "<div>\n",
       "<style scoped>\n",
       "    .dataframe tbody tr th:only-of-type {\n",
       "        vertical-align: middle;\n",
       "    }\n",
       "\n",
       "    .dataframe tbody tr th {\n",
       "        vertical-align: top;\n",
       "    }\n",
       "\n",
       "    .dataframe thead th {\n",
       "        text-align: right;\n",
       "    }\n",
       "</style>\n",
       "<table border=\"1\" class=\"dataframe\">\n",
       "  <thead>\n",
       "    <tr style=\"text-align: right;\">\n",
       "      <th></th>\n",
       "      <th>Id</th>\n",
       "      <th>Properties</th>\n",
       "      <th>Format</th>\n",
       "      <th>Time</th>\n",
       "      <th>Discrete</th>\n",
       "      <th>Realtime</th>\n",
       "      <th>Turns</th>\n",
       "      <th>Alternating</th>\n",
       "      <th>Simultaneous</th>\n",
       "      <th>Stochastic</th>\n",
       "      <th>...</th>\n",
       "      <th>Then</th>\n",
       "      <th>ForEachPiece</th>\n",
       "      <th>DoLudeme</th>\n",
       "      <th>Trigger</th>\n",
       "      <th>PlayoutsPerSecond</th>\n",
       "      <th>MovesPerSecond</th>\n",
       "      <th>num_wins_agent1</th>\n",
       "      <th>num_draws_agent1</th>\n",
       "      <th>num_losses_agent1</th>\n",
       "      <th>utility_agent1</th>\n",
       "    </tr>\n",
       "  </thead>\n",
       "  <tbody>\n",
       "    <tr>\n",
       "      <th>count</th>\n",
       "      <td>233234.000000</td>\n",
       "      <td>233234.0</td>\n",
       "      <td>233234.0</td>\n",
       "      <td>233234.0</td>\n",
       "      <td>233234.0</td>\n",
       "      <td>233234.0</td>\n",
       "      <td>233234.0</td>\n",
       "      <td>233234.0</td>\n",
       "      <td>233234.0</td>\n",
       "      <td>233234.000000</td>\n",
       "      <td>...</td>\n",
       "      <td>233234.000000</td>\n",
       "      <td>233234.000000</td>\n",
       "      <td>233234.000000</td>\n",
       "      <td>233234.000000</td>\n",
       "      <td>233234.000000</td>\n",
       "      <td>2.332340e+05</td>\n",
       "      <td>233234.000000</td>\n",
       "      <td>233234.000000</td>\n",
       "      <td>233234.000000</td>\n",
       "      <td>233234.000000</td>\n",
       "    </tr>\n",
       "    <tr>\n",
       "      <th>mean</th>\n",
       "      <td>116616.500000</td>\n",
       "      <td>1.0</td>\n",
       "      <td>1.0</td>\n",
       "      <td>1.0</td>\n",
       "      <td>1.0</td>\n",
       "      <td>0.0</td>\n",
       "      <td>1.0</td>\n",
       "      <td>1.0</td>\n",
       "      <td>0.0</td>\n",
       "      <td>0.075829</td>\n",
       "      <td>...</td>\n",
       "      <td>0.680055</td>\n",
       "      <td>0.650042</td>\n",
       "      <td>0.270158</td>\n",
       "      <td>0.018385</td>\n",
       "      <td>2863.386342</td>\n",
       "      <td>1.666635e+05</td>\n",
       "      <td>6.759735</td>\n",
       "      <td>2.333528</td>\n",
       "      <td>6.087586</td>\n",
       "      <td>0.044398</td>\n",
       "    </tr>\n",
       "    <tr>\n",
       "      <th>std</th>\n",
       "      <td>67329.000679</td>\n",
       "      <td>0.0</td>\n",
       "      <td>0.0</td>\n",
       "      <td>0.0</td>\n",
       "      <td>0.0</td>\n",
       "      <td>0.0</td>\n",
       "      <td>0.0</td>\n",
       "      <td>0.0</td>\n",
       "      <td>0.0</td>\n",
       "      <td>0.264726</td>\n",
       "      <td>...</td>\n",
       "      <td>0.466456</td>\n",
       "      <td>0.476957</td>\n",
       "      <td>0.444042</td>\n",
       "      <td>0.134339</td>\n",
       "      <td>9558.007843</td>\n",
       "      <td>1.890782e+05</td>\n",
       "      <td>5.377815</td>\n",
       "      <td>4.625684</td>\n",
       "      <td>5.272134</td>\n",
       "      <td>0.622847</td>\n",
       "    </tr>\n",
       "    <tr>\n",
       "      <th>min</th>\n",
       "      <td>0.000000</td>\n",
       "      <td>1.0</td>\n",
       "      <td>1.0</td>\n",
       "      <td>1.0</td>\n",
       "      <td>1.0</td>\n",
       "      <td>0.0</td>\n",
       "      <td>1.0</td>\n",
       "      <td>1.0</td>\n",
       "      <td>0.0</td>\n",
       "      <td>0.000000</td>\n",
       "      <td>...</td>\n",
       "      <td>0.000000</td>\n",
       "      <td>0.000000</td>\n",
       "      <td>0.000000</td>\n",
       "      <td>0.000000</td>\n",
       "      <td>0.030000</td>\n",
       "      <td>5.690000e+00</td>\n",
       "      <td>0.000000</td>\n",
       "      <td>0.000000</td>\n",
       "      <td>0.000000</td>\n",
       "      <td>-1.000000</td>\n",
       "    </tr>\n",
       "    <tr>\n",
       "      <th>25%</th>\n",
       "      <td>58308.250000</td>\n",
       "      <td>1.0</td>\n",
       "      <td>1.0</td>\n",
       "      <td>1.0</td>\n",
       "      <td>1.0</td>\n",
       "      <td>0.0</td>\n",
       "      <td>1.0</td>\n",
       "      <td>1.0</td>\n",
       "      <td>0.0</td>\n",
       "      <td>0.000000</td>\n",
       "      <td>...</td>\n",
       "      <td>0.000000</td>\n",
       "      <td>0.000000</td>\n",
       "      <td>0.000000</td>\n",
       "      <td>0.000000</td>\n",
       "      <td>95.870000</td>\n",
       "      <td>4.047234e+04</td>\n",
       "      <td>1.000000</td>\n",
       "      <td>0.000000</td>\n",
       "      <td>1.000000</td>\n",
       "      <td>-0.333333</td>\n",
       "    </tr>\n",
       "    <tr>\n",
       "      <th>50%</th>\n",
       "      <td>116616.500000</td>\n",
       "      <td>1.0</td>\n",
       "      <td>1.0</td>\n",
       "      <td>1.0</td>\n",
       "      <td>1.0</td>\n",
       "      <td>0.0</td>\n",
       "      <td>1.0</td>\n",
       "      <td>1.0</td>\n",
       "      <td>0.0</td>\n",
       "      <td>0.000000</td>\n",
       "      <td>...</td>\n",
       "      <td>1.000000</td>\n",
       "      <td>1.000000</td>\n",
       "      <td>0.000000</td>\n",
       "      <td>0.000000</td>\n",
       "      <td>449.790000</td>\n",
       "      <td>1.054746e+05</td>\n",
       "      <td>6.000000</td>\n",
       "      <td>0.000000</td>\n",
       "      <td>6.000000</td>\n",
       "      <td>0.000000</td>\n",
       "    </tr>\n",
       "    <tr>\n",
       "      <th>75%</th>\n",
       "      <td>174924.750000</td>\n",
       "      <td>1.0</td>\n",
       "      <td>1.0</td>\n",
       "      <td>1.0</td>\n",
       "      <td>1.0</td>\n",
       "      <td>0.0</td>\n",
       "      <td>1.0</td>\n",
       "      <td>1.0</td>\n",
       "      <td>0.0</td>\n",
       "      <td>0.000000</td>\n",
       "      <td>...</td>\n",
       "      <td>1.000000</td>\n",
       "      <td>1.000000</td>\n",
       "      <td>1.000000</td>\n",
       "      <td>0.000000</td>\n",
       "      <td>1275.520000</td>\n",
       "      <td>2.379821e+05</td>\n",
       "      <td>11.000000</td>\n",
       "      <td>2.000000</td>\n",
       "      <td>10.000000</td>\n",
       "      <td>0.533333</td>\n",
       "    </tr>\n",
       "    <tr>\n",
       "      <th>max</th>\n",
       "      <td>233233.000000</td>\n",
       "      <td>1.0</td>\n",
       "      <td>1.0</td>\n",
       "      <td>1.0</td>\n",
       "      <td>1.0</td>\n",
       "      <td>0.0</td>\n",
       "      <td>1.0</td>\n",
       "      <td>1.0</td>\n",
       "      <td>0.0</td>\n",
       "      <td>1.000000</td>\n",
       "      <td>...</td>\n",
       "      <td>1.000000</td>\n",
       "      <td>1.000000</td>\n",
       "      <td>1.000000</td>\n",
       "      <td>1.000000</td>\n",
       "      <td>164877.370000</td>\n",
       "      <td>2.096745e+06</td>\n",
       "      <td>44.000000</td>\n",
       "      <td>30.000000</td>\n",
       "      <td>45.000000</td>\n",
       "      <td>1.000000</td>\n",
       "    </tr>\n",
       "  </tbody>\n",
       "</table>\n",
       "<p>8 rows × 809 columns</p>\n",
       "</div>"
      ],
      "text/plain": [
       "                  Id  Properties    Format      Time  Discrete  Realtime  \\\n",
       "count  233234.000000    233234.0  233234.0  233234.0  233234.0  233234.0   \n",
       "mean   116616.500000         1.0       1.0       1.0       1.0       0.0   \n",
       "std     67329.000679         0.0       0.0       0.0       0.0       0.0   \n",
       "min         0.000000         1.0       1.0       1.0       1.0       0.0   \n",
       "25%     58308.250000         1.0       1.0       1.0       1.0       0.0   \n",
       "50%    116616.500000         1.0       1.0       1.0       1.0       0.0   \n",
       "75%    174924.750000         1.0       1.0       1.0       1.0       0.0   \n",
       "max    233233.000000         1.0       1.0       1.0       1.0       0.0   \n",
       "\n",
       "          Turns  Alternating  Simultaneous     Stochastic  ...           Then  \\\n",
       "count  233234.0     233234.0      233234.0  233234.000000  ...  233234.000000   \n",
       "mean        1.0          1.0           0.0       0.075829  ...       0.680055   \n",
       "std         0.0          0.0           0.0       0.264726  ...       0.466456   \n",
       "min         1.0          1.0           0.0       0.000000  ...       0.000000   \n",
       "25%         1.0          1.0           0.0       0.000000  ...       0.000000   \n",
       "50%         1.0          1.0           0.0       0.000000  ...       1.000000   \n",
       "75%         1.0          1.0           0.0       0.000000  ...       1.000000   \n",
       "max         1.0          1.0           0.0       1.000000  ...       1.000000   \n",
       "\n",
       "        ForEachPiece       DoLudeme        Trigger  PlayoutsPerSecond  \\\n",
       "count  233234.000000  233234.000000  233234.000000      233234.000000   \n",
       "mean        0.650042       0.270158       0.018385        2863.386342   \n",
       "std         0.476957       0.444042       0.134339        9558.007843   \n",
       "min         0.000000       0.000000       0.000000           0.030000   \n",
       "25%         0.000000       0.000000       0.000000          95.870000   \n",
       "50%         1.000000       0.000000       0.000000         449.790000   \n",
       "75%         1.000000       1.000000       0.000000        1275.520000   \n",
       "max         1.000000       1.000000       1.000000      164877.370000   \n",
       "\n",
       "       MovesPerSecond  num_wins_agent1  num_draws_agent1  num_losses_agent1  \\\n",
       "count    2.332340e+05    233234.000000     233234.000000      233234.000000   \n",
       "mean     1.666635e+05         6.759735          2.333528           6.087586   \n",
       "std      1.890782e+05         5.377815          4.625684           5.272134   \n",
       "min      5.690000e+00         0.000000          0.000000           0.000000   \n",
       "25%      4.047234e+04         1.000000          0.000000           1.000000   \n",
       "50%      1.054746e+05         6.000000          0.000000           6.000000   \n",
       "75%      2.379821e+05        11.000000          2.000000          10.000000   \n",
       "max      2.096745e+06        44.000000         30.000000          45.000000   \n",
       "\n",
       "       utility_agent1  \n",
       "count   233234.000000  \n",
       "mean         0.044398  \n",
       "std          0.622847  \n",
       "min         -1.000000  \n",
       "25%         -0.333333  \n",
       "50%          0.000000  \n",
       "75%          0.533333  \n",
       "max          1.000000  \n",
       "\n",
       "[8 rows x 809 columns]"
      ]
     },
     "execution_count": 7,
     "metadata": {},
     "output_type": "execute_result"
    }
   ],
   "source": [
    "train_data.describe()"
   ]
  },
  {
   "cell_type": "code",
   "execution_count": 8,
   "id": "76657ccf",
   "metadata": {
    "execution": {
     "iopub.execute_input": "2024-09-16T23:54:16.848271Z",
     "iopub.status.busy": "2024-09-16T23:54:16.847270Z",
     "iopub.status.idle": "2024-09-16T23:54:16.885815Z",
     "shell.execute_reply": "2024-09-16T23:54:16.884555Z"
    },
    "papermill": {
     "duration": 0.059152,
     "end_time": "2024-09-16T23:54:16.888510",
     "exception": false,
     "start_time": "2024-09-16T23:54:16.829358",
     "status": "completed"
    },
    "tags": []
   },
   "outputs": [
    {
     "name": "stdout",
     "output_type": "stream",
     "text": [
      "72\n"
     ]
    }
   ],
   "source": [
    "print(len(train_data[\"agent2\"].unique()))"
   ]
  },
  {
   "cell_type": "code",
   "execution_count": 9,
   "id": "3ca93ac6",
   "metadata": {
    "execution": {
     "iopub.execute_input": "2024-09-16T23:54:16.923351Z",
     "iopub.status.busy": "2024-09-16T23:54:16.922471Z",
     "iopub.status.idle": "2024-09-16T23:54:16.929891Z",
     "shell.execute_reply": "2024-09-16T23:54:16.928789Z"
    },
    "papermill": {
     "duration": 0.02752,
     "end_time": "2024-09-16T23:54:16.932419",
     "exception": false,
     "start_time": "2024-09-16T23:54:16.904899",
     "status": "completed"
    },
    "tags": []
   },
   "outputs": [],
   "source": [
    "def summarize_dataframe_info(df):\n",
    "    table=pd.DataFrame(columns=[\"Column\",\"Data Type\",\"Null count\"])\n",
    "    Dtype=\"\"\n",
    "    null=0\n",
    "    for column in df.columns:\n",
    "        Dtype=df[column].dtype\n",
    "        null=df[column].isnull().sum()\n",
    "        new_row = {\"Column\": column, \"Data Type\": Dtype,\"Null count\":null}\n",
    "        table = pd.concat([table, pd.DataFrame([new_row])], ignore_index=True)\n",
    "    return table\n",
    "        \n",
    "        "
   ]
  },
  {
   "cell_type": "code",
   "execution_count": 10,
   "id": "1286957d",
   "metadata": {
    "execution": {
     "iopub.execute_input": "2024-09-16T23:54:16.967617Z",
     "iopub.status.busy": "2024-09-16T23:54:16.966642Z",
     "iopub.status.idle": "2024-09-16T23:54:17.962816Z",
     "shell.execute_reply": "2024-09-16T23:54:17.961681Z"
    },
    "papermill": {
     "duration": 1.016917,
     "end_time": "2024-09-16T23:54:17.965718",
     "exception": false,
     "start_time": "2024-09-16T23:54:16.948801",
     "status": "completed"
    },
    "tags": []
   },
   "outputs": [],
   "source": [
    "info=summarize_dataframe_info(train_data)"
   ]
  },
  {
   "cell_type": "code",
   "execution_count": 11,
   "id": "4ba0c88d",
   "metadata": {
    "execution": {
     "iopub.execute_input": "2024-09-16T23:54:18.000653Z",
     "iopub.status.busy": "2024-09-16T23:54:18.000202Z",
     "iopub.status.idle": "2024-09-16T23:54:18.015329Z",
     "shell.execute_reply": "2024-09-16T23:54:18.014284Z"
    },
    "papermill": {
     "duration": 0.035463,
     "end_time": "2024-09-16T23:54:18.017846",
     "exception": false,
     "start_time": "2024-09-16T23:54:17.982383",
     "status": "completed"
    },
    "tags": []
   },
   "outputs": [
    {
     "data": {
      "text/html": [
       "<div>\n",
       "<style scoped>\n",
       "    .dataframe tbody tr th:only-of-type {\n",
       "        vertical-align: middle;\n",
       "    }\n",
       "\n",
       "    .dataframe tbody tr th {\n",
       "        vertical-align: top;\n",
       "    }\n",
       "\n",
       "    .dataframe thead th {\n",
       "        text-align: right;\n",
       "    }\n",
       "</style>\n",
       "<table border=\"1\" class=\"dataframe\">\n",
       "  <thead>\n",
       "    <tr style=\"text-align: right;\">\n",
       "      <th></th>\n",
       "      <th>Column</th>\n",
       "      <th>Data Type</th>\n",
       "      <th>Null count</th>\n",
       "    </tr>\n",
       "  </thead>\n",
       "  <tbody>\n",
       "    <tr>\n",
       "      <th>550</th>\n",
       "      <td>Behaviour</td>\n",
       "      <td>float64</td>\n",
       "      <td>233234</td>\n",
       "    </tr>\n",
       "    <tr>\n",
       "      <th>551</th>\n",
       "      <td>StateRepetition</td>\n",
       "      <td>float64</td>\n",
       "      <td>233234</td>\n",
       "    </tr>\n",
       "    <tr>\n",
       "      <th>554</th>\n",
       "      <td>Duration</td>\n",
       "      <td>float64</td>\n",
       "      <td>233234</td>\n",
       "    </tr>\n",
       "    <tr>\n",
       "      <th>560</th>\n",
       "      <td>Complexity</td>\n",
       "      <td>float64</td>\n",
       "      <td>233234</td>\n",
       "    </tr>\n",
       "    <tr>\n",
       "      <th>564</th>\n",
       "      <td>BoardCoverage</td>\n",
       "      <td>float64</td>\n",
       "      <td>233234</td>\n",
       "    </tr>\n",
       "    <tr>\n",
       "      <th>568</th>\n",
       "      <td>GameOutcome</td>\n",
       "      <td>float64</td>\n",
       "      <td>233234</td>\n",
       "    </tr>\n",
       "    <tr>\n",
       "      <th>575</th>\n",
       "      <td>StateEvaluation</td>\n",
       "      <td>float64</td>\n",
       "      <td>233234</td>\n",
       "    </tr>\n",
       "    <tr>\n",
       "      <th>576</th>\n",
       "      <td>Clarity</td>\n",
       "      <td>float64</td>\n",
       "      <td>233234</td>\n",
       "    </tr>\n",
       "    <tr>\n",
       "      <th>579</th>\n",
       "      <td>Decisiveness</td>\n",
       "      <td>float64</td>\n",
       "      <td>233234</td>\n",
       "    </tr>\n",
       "    <tr>\n",
       "      <th>584</th>\n",
       "      <td>Drama</td>\n",
       "      <td>float64</td>\n",
       "      <td>233234</td>\n",
       "    </tr>\n",
       "    <tr>\n",
       "      <th>596</th>\n",
       "      <td>MoveEvaluation</td>\n",
       "      <td>float64</td>\n",
       "      <td>233234</td>\n",
       "    </tr>\n",
       "    <tr>\n",
       "      <th>608</th>\n",
       "      <td>StateEvaluationDifference</td>\n",
       "      <td>float64</td>\n",
       "      <td>233234</td>\n",
       "    </tr>\n",
       "    <tr>\n",
       "      <th>620</th>\n",
       "      <td>BoardSitesOccupied</td>\n",
       "      <td>float64</td>\n",
       "      <td>233234</td>\n",
       "    </tr>\n",
       "    <tr>\n",
       "      <th>632</th>\n",
       "      <td>BranchingFactor</td>\n",
       "      <td>float64</td>\n",
       "      <td>233234</td>\n",
       "    </tr>\n",
       "    <tr>\n",
       "      <th>644</th>\n",
       "      <td>DecisionFactor</td>\n",
       "      <td>float64</td>\n",
       "      <td>233234</td>\n",
       "    </tr>\n",
       "    <tr>\n",
       "      <th>656</th>\n",
       "      <td>MoveDistance</td>\n",
       "      <td>float64</td>\n",
       "      <td>233234</td>\n",
       "    </tr>\n",
       "    <tr>\n",
       "      <th>668</th>\n",
       "      <td>PieceNumber</td>\n",
       "      <td>float64</td>\n",
       "      <td>233234</td>\n",
       "    </tr>\n",
       "    <tr>\n",
       "      <th>680</th>\n",
       "      <td>ScoreDifference</td>\n",
       "      <td>float64</td>\n",
       "      <td>233234</td>\n",
       "    </tr>\n",
       "  </tbody>\n",
       "</table>\n",
       "</div>"
      ],
      "text/plain": [
       "                        Column Data Type Null count\n",
       "550                  Behaviour   float64     233234\n",
       "551            StateRepetition   float64     233234\n",
       "554                   Duration   float64     233234\n",
       "560                 Complexity   float64     233234\n",
       "564              BoardCoverage   float64     233234\n",
       "568                GameOutcome   float64     233234\n",
       "575            StateEvaluation   float64     233234\n",
       "576                    Clarity   float64     233234\n",
       "579               Decisiveness   float64     233234\n",
       "584                      Drama   float64     233234\n",
       "596             MoveEvaluation   float64     233234\n",
       "608  StateEvaluationDifference   float64     233234\n",
       "620         BoardSitesOccupied   float64     233234\n",
       "632            BranchingFactor   float64     233234\n",
       "644             DecisionFactor   float64     233234\n",
       "656               MoveDistance   float64     233234\n",
       "668                PieceNumber   float64     233234\n",
       "680            ScoreDifference   float64     233234"
      ]
     },
     "execution_count": 11,
     "metadata": {},
     "output_type": "execute_result"
    }
   ],
   "source": [
    "info[info[\"Null count\"]>=1]"
   ]
  },
  {
   "cell_type": "code",
   "execution_count": 12,
   "id": "d797fdfa",
   "metadata": {
    "execution": {
     "iopub.execute_input": "2024-09-16T23:54:18.053358Z",
     "iopub.status.busy": "2024-09-16T23:54:18.052890Z",
     "iopub.status.idle": "2024-09-16T23:54:18.065707Z",
     "shell.execute_reply": "2024-09-16T23:54:18.064632Z"
    },
    "papermill": {
     "duration": 0.033402,
     "end_time": "2024-09-16T23:54:18.067995",
     "exception": false,
     "start_time": "2024-09-16T23:54:18.034593",
     "status": "completed"
    },
    "tags": []
   },
   "outputs": [
    {
     "data": {
      "text/html": [
       "<div>\n",
       "<style scoped>\n",
       "    .dataframe tbody tr th:only-of-type {\n",
       "        vertical-align: middle;\n",
       "    }\n",
       "\n",
       "    .dataframe tbody tr th {\n",
       "        vertical-align: top;\n",
       "    }\n",
       "\n",
       "    .dataframe thead th {\n",
       "        text-align: right;\n",
       "    }\n",
       "</style>\n",
       "<table border=\"1\" class=\"dataframe\">\n",
       "  <thead>\n",
       "    <tr style=\"text-align: right;\">\n",
       "      <th></th>\n",
       "      <th>Column</th>\n",
       "      <th>Data Type</th>\n",
       "      <th>Null count</th>\n",
       "    </tr>\n",
       "  </thead>\n",
       "  <tbody>\n",
       "    <tr>\n",
       "      <th>1</th>\n",
       "      <td>GameRulesetName</td>\n",
       "      <td>object</td>\n",
       "      <td>0</td>\n",
       "    </tr>\n",
       "    <tr>\n",
       "      <th>2</th>\n",
       "      <td>agent1</td>\n",
       "      <td>object</td>\n",
       "      <td>0</td>\n",
       "    </tr>\n",
       "    <tr>\n",
       "      <th>3</th>\n",
       "      <td>agent2</td>\n",
       "      <td>object</td>\n",
       "      <td>0</td>\n",
       "    </tr>\n",
       "    <tr>\n",
       "      <th>808</th>\n",
       "      <td>EnglishRules</td>\n",
       "      <td>object</td>\n",
       "      <td>0</td>\n",
       "    </tr>\n",
       "    <tr>\n",
       "      <th>809</th>\n",
       "      <td>LudRules</td>\n",
       "      <td>object</td>\n",
       "      <td>0</td>\n",
       "    </tr>\n",
       "  </tbody>\n",
       "</table>\n",
       "</div>"
      ],
      "text/plain": [
       "              Column Data Type Null count\n",
       "1    GameRulesetName    object          0\n",
       "2             agent1    object          0\n",
       "3             agent2    object          0\n",
       "808     EnglishRules    object          0\n",
       "809         LudRules    object          0"
      ]
     },
     "execution_count": 12,
     "metadata": {},
     "output_type": "execute_result"
    }
   ],
   "source": [
    "info[info[\"Data Type\"]==\"object\"]"
   ]
  },
  {
   "cell_type": "code",
   "execution_count": 13,
   "id": "5e458c74",
   "metadata": {
    "execution": {
     "iopub.execute_input": "2024-09-16T23:54:18.103210Z",
     "iopub.status.busy": "2024-09-16T23:54:18.102761Z",
     "iopub.status.idle": "2024-09-16T23:54:18.134306Z",
     "shell.execute_reply": "2024-09-16T23:54:18.133162Z"
    },
    "papermill": {
     "duration": 0.052107,
     "end_time": "2024-09-16T23:54:18.136846",
     "exception": false,
     "start_time": "2024-09-16T23:54:18.084739",
     "status": "completed"
    },
    "tags": []
   },
   "outputs": [
    {
     "data": {
      "text/plain": [
       "array(['00Y', '1D_Chess', '20_SquaresSeleucid_Scholarly', ...,\n",
       "       'Zurgaan_Tal', 'Zuz_Mel_5x5', 'Zuz_Mel_7x7'], dtype=object)"
      ]
     },
     "execution_count": 13,
     "metadata": {},
     "output_type": "execute_result"
    }
   ],
   "source": [
    "train_data[\"GameRulesetName\"].unique()"
   ]
  },
  {
   "cell_type": "code",
   "execution_count": 14,
   "id": "cd61d764",
   "metadata": {
    "execution": {
     "iopub.execute_input": "2024-09-16T23:54:18.172278Z",
     "iopub.status.busy": "2024-09-16T23:54:18.171827Z",
     "iopub.status.idle": "2024-09-16T23:54:18.206619Z",
     "shell.execute_reply": "2024-09-16T23:54:18.205497Z"
    },
    "papermill": {
     "duration": 0.055385,
     "end_time": "2024-09-16T23:54:18.209311",
     "exception": false,
     "start_time": "2024-09-16T23:54:18.153926",
     "status": "completed"
    },
    "tags": []
   },
   "outputs": [
    {
     "data": {
      "text/plain": [
       "array(['MCTS-ProgressiveHistory-0.1-MAST-false',\n",
       "       'MCTS-ProgressiveHistory-0.1-MAST-true',\n",
       "       'MCTS-ProgressiveHistory-0.1-NST-false',\n",
       "       'MCTS-ProgressiveHistory-0.1-NST-true',\n",
       "       'MCTS-ProgressiveHistory-0.1-Random200-false',\n",
       "       'MCTS-ProgressiveHistory-0.1-Random200-true',\n",
       "       'MCTS-ProgressiveHistory-0.6-MAST-false',\n",
       "       'MCTS-ProgressiveHistory-0.6-MAST-true',\n",
       "       'MCTS-ProgressiveHistory-0.6-NST-false',\n",
       "       'MCTS-ProgressiveHistory-0.6-NST-true',\n",
       "       'MCTS-ProgressiveHistory-0.6-Random200-false',\n",
       "       'MCTS-ProgressiveHistory-0.6-Random200-true',\n",
       "       'MCTS-ProgressiveHistory-1.41421356237-MAST-false',\n",
       "       'MCTS-ProgressiveHistory-1.41421356237-MAST-true',\n",
       "       'MCTS-ProgressiveHistory-1.41421356237-NST-false',\n",
       "       'MCTS-ProgressiveHistory-1.41421356237-NST-true',\n",
       "       'MCTS-ProgressiveHistory-1.41421356237-Random200-false',\n",
       "       'MCTS-ProgressiveHistory-1.41421356237-Random200-true',\n",
       "       'MCTS-UCB1-0.1-MAST-false', 'MCTS-UCB1-0.1-MAST-true',\n",
       "       'MCTS-UCB1-0.1-NST-false', 'MCTS-UCB1-0.1-NST-true',\n",
       "       'MCTS-UCB1-0.1-Random200-false', 'MCTS-UCB1-0.1-Random200-true',\n",
       "       'MCTS-UCB1-0.6-MAST-false', 'MCTS-UCB1-0.6-MAST-true',\n",
       "       'MCTS-UCB1-0.6-NST-false', 'MCTS-UCB1-0.6-NST-true',\n",
       "       'MCTS-UCB1-0.6-Random200-false', 'MCTS-UCB1-0.6-Random200-true',\n",
       "       'MCTS-UCB1-1.41421356237-MAST-false',\n",
       "       'MCTS-UCB1-1.41421356237-MAST-true',\n",
       "       'MCTS-UCB1-1.41421356237-NST-false',\n",
       "       'MCTS-UCB1-1.41421356237-NST-true',\n",
       "       'MCTS-UCB1-1.41421356237-Random200-false',\n",
       "       'MCTS-UCB1-1.41421356237-Random200-true',\n",
       "       'MCTS-UCB1GRAVE-0.1-MAST-false', 'MCTS-UCB1GRAVE-0.1-MAST-true',\n",
       "       'MCTS-UCB1GRAVE-0.1-NST-false', 'MCTS-UCB1GRAVE-0.1-NST-true',\n",
       "       'MCTS-UCB1GRAVE-0.1-Random200-false',\n",
       "       'MCTS-UCB1GRAVE-0.1-Random200-true',\n",
       "       'MCTS-UCB1GRAVE-0.6-MAST-false', 'MCTS-UCB1GRAVE-0.6-MAST-true',\n",
       "       'MCTS-UCB1GRAVE-0.6-NST-false', 'MCTS-UCB1GRAVE-0.6-NST-true',\n",
       "       'MCTS-UCB1GRAVE-0.6-Random200-false',\n",
       "       'MCTS-UCB1GRAVE-0.6-Random200-true',\n",
       "       'MCTS-UCB1GRAVE-1.41421356237-MAST-false',\n",
       "       'MCTS-UCB1GRAVE-1.41421356237-MAST-true',\n",
       "       'MCTS-UCB1GRAVE-1.41421356237-NST-false',\n",
       "       'MCTS-UCB1GRAVE-1.41421356237-NST-true',\n",
       "       'MCTS-UCB1GRAVE-1.41421356237-Random200-false',\n",
       "       'MCTS-UCB1GRAVE-1.41421356237-Random200-true',\n",
       "       'MCTS-UCB1Tuned-0.1-MAST-false', 'MCTS-UCB1Tuned-0.1-MAST-true',\n",
       "       'MCTS-UCB1Tuned-0.1-NST-false', 'MCTS-UCB1Tuned-0.1-NST-true',\n",
       "       'MCTS-UCB1Tuned-0.1-Random200-false',\n",
       "       'MCTS-UCB1Tuned-0.1-Random200-true',\n",
       "       'MCTS-UCB1Tuned-0.6-MAST-false', 'MCTS-UCB1Tuned-0.6-MAST-true',\n",
       "       'MCTS-UCB1Tuned-0.6-NST-false', 'MCTS-UCB1Tuned-0.6-NST-true',\n",
       "       'MCTS-UCB1Tuned-0.6-Random200-false',\n",
       "       'MCTS-UCB1Tuned-0.6-Random200-true',\n",
       "       'MCTS-UCB1Tuned-1.41421356237-MAST-false',\n",
       "       'MCTS-UCB1Tuned-1.41421356237-MAST-true',\n",
       "       'MCTS-UCB1Tuned-1.41421356237-NST-false',\n",
       "       'MCTS-UCB1Tuned-1.41421356237-NST-true',\n",
       "       'MCTS-UCB1Tuned-1.41421356237-Random200-false',\n",
       "       'MCTS-UCB1Tuned-1.41421356237-Random200-true'], dtype=object)"
      ]
     },
     "execution_count": 14,
     "metadata": {},
     "output_type": "execute_result"
    }
   ],
   "source": [
    "train_data[\"agent1\"].unique()"
   ]
  },
  {
   "cell_type": "markdown",
   "id": "11e8c650",
   "metadata": {
    "papermill": {
     "duration": 0.016814,
     "end_time": "2024-09-16T23:54:18.243287",
     "exception": false,
     "start_time": "2024-09-16T23:54:18.226473",
     "status": "completed"
    },
    "tags": []
   },
   "source": [
    "Drop columns that have 95% or more identical values and columns with all null values."
   ]
  },
  {
   "cell_type": "code",
   "execution_count": 15,
   "id": "fadeb4e1",
   "metadata": {
    "execution": {
     "iopub.execute_input": "2024-09-16T23:54:18.279345Z",
     "iopub.status.busy": "2024-09-16T23:54:18.278882Z",
     "iopub.status.idle": "2024-09-16T23:54:21.751043Z",
     "shell.execute_reply": "2024-09-16T23:54:21.749981Z"
    },
    "papermill": {
     "duration": 3.493777,
     "end_time": "2024-09-16T23:54:21.753986",
     "exception": false,
     "start_time": "2024-09-16T23:54:18.260209",
     "status": "completed"
    },
    "tags": []
   },
   "outputs": [
    {
     "name": "stdout",
     "output_type": "stream",
     "text": [
      "['Properties', 'Format', 'Time', 'Discrete', 'Realtime', 'Turns', 'Alternating', 'Simultaneous', 'HiddenInformation', 'Match', 'AsymmetricRules', 'AsymmetricPlayRules', 'AsymmetricEndRules', 'AsymmetricSetup', 'Players', 'NumPlayers', 'Simulation', 'Solitaire', 'TwoPlayer', 'Multiplayer', 'Cooperation', 'Team', 'Coalition', 'Puzzle', 'DeductionPuzzle', 'PlanningPuzzle', 'Equipment', 'Container', 'Board', 'TriangleShape', 'DiamondShape', 'SpiralShape', 'CircleShape', 'PrismShape', 'StarShape', 'ParallelogramShape', 'SquarePyramidalShape', 'RectanglePyramidalShape', 'TargetShape', 'TriangleTiling', 'BrickTiling', 'SemiRegularTiling', 'CelticTiling', 'MorrisTiling', 'QuadHexTiling', 'CircleTiling', 'ConcentricTiling', 'SpiralTiling', 'AlquerqueTiling', 'MancalaStores', 'MancalaThreeRows', 'MancalaSixRows', 'MancalaCircular', 'AlquerqueBoardWithOneTriangle', 'AlquerqueBoardWithTwoTriangles', 'AlquerqueBoardWithFourTriangles', 'AlquerqueBoardWithEightTriangles', 'ThreeMensMorrisBoard', 'ThreeMensMorrisBoardWithTwoTriangles', 'NineMensMorrisBoard', 'StarBoard', 'CrossBoard', 'KintsBoard', 'PachisiBoard', 'FortyStonesWithFourGapsBoard', 'Hints', 'Boardless', 'PlayableSites', 'Edge', 'NumOffDiagonalDirections', 'NumLayers', 'Component', 'Piece', 'PieceValue', 'PieceRotation', 'DiceD2', 'DiceD3', 'DiceD4', 'DiceD6', 'BiasedDice', 'Card', 'Domino', 'LargePiece', 'Tile', 'Rules', 'OpeningContract', 'SwapOption', 'Repetition', 'TurnKo', 'SituationalTurnKo', 'PositionalSuperko', 'SituationalSuperko', 'AutoMove', 'InitialRandomPlacement', 'InitialScore', 'InitialAmount', 'InitialPot', 'InitialCost', 'Play', 'Moves', 'BetDecision', 'BetDecisionFrequency', 'VoteDecision', 'VoteDecisionFrequency', 'SwapPlayersDecision', 'SwapPlayersDecisionFrequency', 'ChooseTrumpSuitDecision', 'ChooseTrumpSuitDecisionFrequency', 'ProposeDecision', 'ProposeDecisionFrequency', 'PromotionDecision', 'PromotionDecisionFrequency', 'RotationDecision', 'RotationDecisionFrequency', 'StepDecisionToFriend', 'StepDecisionToFriendFrequency', 'SlideDecisionToEnemy', 'SlideDecisionToFriend', 'SlideDecisionToFriendFrequency', 'LeapDecisionToFriend', 'LeapDecisionToFriendFrequency', 'HopDecisionFriendToEmpty', 'HopDecisionFriendToEmptyFrequency', 'HopDecisionEnemyToFriend', 'HopDecisionEnemyToFriendFrequency', 'HopDecisionFriendToFriend', 'HopDecisionFriendToFriendFrequency', 'HopDecisionEnemyToEnemy', 'HopDecisionEnemyToEnemyFrequency', 'HopDecisionFriendToEnemy', 'HopDecisionFriendToEnemyFrequency', 'FromToDecisionFrequency', 'FromToDecisionWithinBoard', 'FromToDecisionBetweenContainers', 'FromToDecisionEnemy', 'FromToDecisionFriend', 'SwapPiecesDecision', 'SwapPiecesDecisionFrequency', 'ShootDecision', 'ShootDecisionFrequency', 'BetEffect', 'BetEffectFrequency', 'VoteEffect', 'VoteEffectFrequency', 'SwapPlayersEffect', 'SwapPlayersEffectFrequency', 'TakeControl', 'TakeControlFrequency', 'PassEffect', 'PassEffectFrequency', 'ProposeEffect', 'ProposeEffectFrequency', 'SowRemove', 'SowRemoveFrequency', 'SowBacktracking', 'SowBacktrackingFrequency', 'SowSkip', 'PromotionEffectFrequency', 'PushEffect', 'PushEffectFrequency', 'Flip', 'FlipFrequency', 'SetNextPlayer', 'SetValue', 'SetValueFrequency', 'SetCount', 'SetCountFrequency', 'SetCost', 'SetCostFrequency', 'SetPhase', 'SetPhaseFrequency', 'SetTrumpSuit', 'SetTrumpSuitFrequency', 'SetRotation', 'SetRotationFrequency', 'StepEffect', 'StepEffectFrequency', 'SlideEffect', 'SlideEffectFrequency', 'LeapEffect', 'LeapEffectFrequency', 'HopEffectFrequency', 'FromToEffectFrequency', 'SwapPiecesEffect', 'SwapPiecesEffectFrequency', 'ShootEffect', 'ShootEffectFrequency', 'ByDieMove', 'MaxMovesInTurn', 'MaxDistance', 'HopCaptureMoreThanOne', 'DirectionCapture', 'DirectionCaptureFrequency', 'EncloseCapture', 'EncloseCaptureFrequency', 'CustodialCapture', 'CustodialCaptureFrequency', 'InterveneCapture', 'InterveneCaptureFrequency', 'SurroundCapture', 'SurroundCaptureFrequency', 'CaptureSequence', 'CaptureSequenceFrequency', 'MaxCapture', 'Conditions', 'Connection', 'Group', 'Loop', 'Pattern', 'PathExtent', 'Territory', 'Fill', 'Distance', 'NoTargetPiece', 'CountPiecesMoverComparison', 'ProgressCheck', 'AllDirections', 'OffDiagonalDirection', 'RotationalDirection', 'SameLayerDirection', 'BackwardDirection', 'ForwardsDirection', 'BackwardsDirection', 'RightwardDirection', 'LeftwardDirection', 'RightwardsDirection', 'LeftwardsDirection', 'BackwardLeftDirection', 'BackwardRightDirection', 'SameDirection', 'OppositeDirection', 'Information', 'HidePieceType', 'HidePieceOwner', 'HidePieceCount', 'HidePieceRotation', 'HidePieceValue', 'HidePieceState', 'InvisiblePiece', 'SumDice', 'End', 'LineLoss', 'LineLossFrequency', 'LineDraw', 'LineDrawFrequency', 'ConnectionEnd', 'ConnectionEndFrequency', 'ConnectionWin', 'ConnectionWinFrequency', 'ConnectionLoss', 'ConnectionLossFrequency', 'ConnectionDraw', 'ConnectionDrawFrequency', 'GroupEnd', 'GroupEndFrequency', 'GroupWin', 'GroupWinFrequency', 'GroupLoss', 'GroupLossFrequency', 'GroupDraw', 'GroupDrawFrequency', 'LoopEnd', 'LoopEndFrequency', 'LoopWin', 'LoopWinFrequency', 'LoopLoss', 'LoopLossFrequency', 'LoopDraw', 'LoopDrawFrequency', 'PatternEnd', 'PatternEndFrequency', 'PatternWin', 'PatternWinFrequency', 'PatternLoss', 'PatternLossFrequency', 'PatternDraw', 'PatternDrawFrequency', 'PathExtentEnd', 'PathExtentEndFrequency', 'PathExtentWin', 'PathExtentWinFrequency', 'PathExtentLoss', 'PathExtentLossFrequency', 'PathExtentDraw', 'PathExtentDrawFrequency', 'TerritoryEnd', 'TerritoryEndFrequency', 'TerritoryWin', 'TerritoryWinFrequency', 'TerritoryLoss', 'TerritoryLossFrequency', 'TerritoryDraw', 'TerritoryDrawFrequency', 'CheckmateLoss', 'CheckmateLossFrequency', 'CheckmateDraw', 'CheckmateDrawFrequency', 'NoTargetPieceEnd', 'NoTargetPieceEndFrequency', 'NoTargetPieceWin', 'NoTargetPieceWinFrequency', 'NoTargetPieceLoss', 'NoTargetPieceLossFrequency', 'NoTargetPieceDraw', 'NoTargetPieceDrawFrequency', 'EliminatePiecesLoss', 'EliminatePiecesLossFrequency', 'EliminatePiecesDraw', 'EliminatePiecesDrawFrequency', 'NoOwnPiecesEnd', 'NoOwnPiecesEndFrequency', 'NoOwnPiecesWin', 'NoOwnPiecesWinFrequency', 'NoOwnPiecesLoss', 'NoOwnPiecesLossFrequency', 'NoOwnPiecesDraw', 'NoOwnPiecesDrawFrequency', 'FillEnd', 'FillEndFrequency', 'FillWin', 'FillWinFrequency', 'FillLoss', 'FillLossFrequency', 'FillDraw', 'FillDrawFrequency', 'ReachEnd', 'ReachEndFrequency', 'ReachWin', 'ReachWinFrequency', 'ReachLoss', 'ReachLossFrequency', 'ReachDraw', 'ReachDrawFrequency', 'ScoringLoss', 'ScoringLossFrequency', 'ScoringDraw', 'ScoringDrawFrequency', 'NoMovesLoss', 'NoMovesLossFrequency', 'NoMovesDraw', 'NoMovesDrawFrequency', 'NoProgressEnd', 'NoProgressEndFrequency', 'NoProgressWin', 'NoProgressWinFrequency', 'NoProgressLoss', 'NoProgressLossFrequency', 'NoProgressDraw', 'NoProgressDrawFrequency', 'SolvedEnd', 'Behaviour', 'StateRepetition', 'PositionalRepetition', 'SituationalRepetition', 'Duration', 'Complexity', 'BoardCoverage', 'GameOutcome', 'StateEvaluation', 'Clarity', 'Narrowness', 'Variance', 'Decisiveness', 'DecisivenessMoves', 'DecisivenessThreshold', 'LeadChange', 'Stability', 'Drama', 'DramaAverage', 'DramaMedian', 'DramaMaximum', 'DramaMinimum', 'DramaVariance', 'DramaChangeAverage', 'DramaChangeSign', 'DramaChangeLineBestFit', 'DramaChangeNumTimes', 'DramaMaxIncrease', 'DramaMaxDecrease', 'MoveEvaluation', 'MoveEvaluationAverage', 'MoveEvaluationMedian', 'MoveEvaluationMaximum', 'MoveEvaluationMinimum', 'MoveEvaluationVariance', 'MoveEvaluationChangeAverage', 'MoveEvaluationChangeSign', 'MoveEvaluationChangeLineBestFit', 'MoveEvaluationChangeNumTimes', 'MoveEvaluationMaxIncrease', 'MoveEvaluationMaxDecrease', 'StateEvaluationDifference', 'StateEvaluationDifferenceAverage', 'StateEvaluationDifferenceMedian', 'StateEvaluationDifferenceMaximum', 'StateEvaluationDifferenceMinimum', 'StateEvaluationDifferenceVariance', 'StateEvaluationDifferenceChangeAverage', 'StateEvaluationDifferenceChangeSign', 'StateEvaluationDifferenceChangeLineBestFit', 'StateEvaluationDifferenceChangeNumTimes', 'StateEvaluationDifferenceMaxIncrease', 'StateEvaluationDifferenceMaxDecrease', 'BoardSitesOccupied', 'BoardSitesOccupiedMinimum', 'BoardSitesOccupiedChangeNumTimes', 'BranchingFactor', 'BranchingFactorMinimum', 'BranchingFactorChangeNumTimesn', 'DecisionFactor', 'DecisionFactorMinimum', 'DecisionFactorChangeNumTimes', 'MoveDistance', 'MoveDistanceMinimum', 'MoveDistanceChangeNumTimes', 'PieceNumber', 'PieceNumberMinimum', 'PieceNumberChangeNumTimes', 'ScoreDifference', 'ScoreDifferenceMinimum', 'ScoreDifferenceChangeNumTimes', 'Math', 'Division', 'Modulo', 'Absolute', 'Roots', 'Cosine', 'Sine', 'Tangent', 'Exponentiation', 'Exponential', 'Logarithm', 'Minimum', 'Maximum', 'Parity', 'Even', 'Odd', 'ExclusiveDisjunction', 'Float', 'Visual', 'Style', 'GoStyle', 'PenAndPaperStyle', 'ShibumiStyle', 'BackgammonStyle', 'JanggiStyle', 'XiangqiStyle', 'ShogiStyle', 'TableStyle', 'SurakartaStyle', 'TaflStyle', 'NoBoard', 'FairyChessComponent', 'PloyComponent', 'ShogiComponent', 'XiangqiComponent', 'StrategoComponent', 'JanggiComponent', 'HandComponent', 'BallComponent', 'TaflComponent', 'Stack', 'ShowPieceValue', 'ShowPieceState', 'Implementation', 'VisitedSites', 'InternalCounter', 'SetInternalCounter', 'SetHidden', 'SetInvisible', 'SetHiddenCount', 'SetHiddenRotation', 'SetHiddenState', 'SetHiddenValue', 'SetHiddenWhat', 'SetHiddenWho', 'Trigger']\n"
     ]
    }
   ],
   "source": [
    "def drop_column_name(df):\n",
    "    drop_column=[]\n",
    "    for column in df.columns:\n",
    "        if df[column].value_counts().max()/233234 >= .95 or len(df[column].value_counts())==0:\n",
    "            drop_column.append(column)\n",
    "    return drop_column\n",
    "drop_column=drop_column_name(train_data)\n",
    "print (drop_column)"
   ]
  },
  {
   "cell_type": "markdown",
   "id": "633ad49c",
   "metadata": {
    "papermill": {
     "duration": 0.017649,
     "end_time": "2024-09-16T23:54:21.789814",
     "exception": false,
     "start_time": "2024-09-16T23:54:21.772165",
     "status": "completed"
    },
    "tags": []
   },
   "source": [
    "add some column we will not use"
   ]
  },
  {
   "cell_type": "code",
   "execution_count": 16,
   "id": "cd41711e",
   "metadata": {
    "execution": {
     "iopub.execute_input": "2024-09-16T23:54:21.827201Z",
     "iopub.status.busy": "2024-09-16T23:54:21.826751Z",
     "iopub.status.idle": "2024-09-16T23:54:21.832394Z",
     "shell.execute_reply": "2024-09-16T23:54:21.831243Z"
    },
    "papermill": {
     "duration": 0.027105,
     "end_time": "2024-09-16T23:54:21.834750",
     "exception": false,
     "start_time": "2024-09-16T23:54:21.807645",
     "status": "completed"
    },
    "tags": []
   },
   "outputs": [],
   "source": [
    "drop_column.extend([\"Id\",\"EnglishRules\",\"LudRules\",\"num_wins_agent1\",\"num_draws_agent1\",\"num_losses_agent1\"])"
   ]
  },
  {
   "cell_type": "code",
   "execution_count": 17,
   "id": "d7112ff4",
   "metadata": {
    "execution": {
     "iopub.execute_input": "2024-09-16T23:54:21.872926Z",
     "iopub.status.busy": "2024-09-16T23:54:21.872478Z",
     "iopub.status.idle": "2024-09-16T23:54:21.878399Z",
     "shell.execute_reply": "2024-09-16T23:54:21.877299Z"
    },
    "papermill": {
     "duration": 0.028413,
     "end_time": "2024-09-16T23:54:21.881293",
     "exception": false,
     "start_time": "2024-09-16T23:54:21.852880",
     "status": "completed"
    },
    "tags": []
   },
   "outputs": [
    {
     "name": "stdout",
     "output_type": "stream",
     "text": [
      "483\n"
     ]
    }
   ],
   "source": [
    "print (len(drop_column)) "
   ]
  },
  {
   "cell_type": "code",
   "execution_count": 18,
   "id": "9cf4069b",
   "metadata": {
    "execution": {
     "iopub.execute_input": "2024-09-16T23:54:21.918295Z",
     "iopub.status.busy": "2024-09-16T23:54:21.917804Z",
     "iopub.status.idle": "2024-09-16T23:54:22.113793Z",
     "shell.execute_reply": "2024-09-16T23:54:22.112691Z"
    },
    "papermill": {
     "duration": 0.217978,
     "end_time": "2024-09-16T23:54:22.116835",
     "exception": false,
     "start_time": "2024-09-16T23:54:21.898857",
     "status": "completed"
    },
    "tags": []
   },
   "outputs": [],
   "source": [
    "train=train_data.drop(columns=drop_column, errors='ignore')\n"
   ]
  },
  {
   "cell_type": "code",
   "execution_count": 19,
   "id": "e41e2731",
   "metadata": {
    "execution": {
     "iopub.execute_input": "2024-09-16T23:54:22.155384Z",
     "iopub.status.busy": "2024-09-16T23:54:22.154218Z",
     "iopub.status.idle": "2024-09-16T23:54:22.376664Z",
     "shell.execute_reply": "2024-09-16T23:54:22.375558Z"
    },
    "papermill": {
     "duration": 0.245164,
     "end_time": "2024-09-16T23:54:22.379757",
     "exception": false,
     "start_time": "2024-09-16T23:54:22.134593",
     "status": "completed"
    },
    "tags": []
   },
   "outputs": [],
   "source": [
    "le1 = LabelEncoder()\n",
    "le2 = LabelEncoder()\n",
    "le3 = LabelEncoder()\n",
    "train[\"GameRulesetName\"] = le1.fit_transform(train[\"GameRulesetName\"])\n",
    "train[\"agent1\"] = le2.fit_transform(train[\"agent1\"])\n",
    "train[\"agent2\"] = le3.fit_transform(train[\"agent2\"])"
   ]
  },
  {
   "cell_type": "code",
   "execution_count": null,
   "id": "72f06e6e",
   "metadata": {
    "papermill": {
     "duration": 0.017623,
     "end_time": "2024-09-16T23:54:22.415311",
     "exception": false,
     "start_time": "2024-09-16T23:54:22.397688",
     "status": "completed"
    },
    "tags": []
   },
   "outputs": [],
   "source": []
  },
  {
   "cell_type": "code",
   "execution_count": 20,
   "id": "a5308371",
   "metadata": {
    "execution": {
     "iopub.execute_input": "2024-09-16T23:54:22.453380Z",
     "iopub.status.busy": "2024-09-16T23:54:22.452916Z",
     "iopub.status.idle": "2024-09-16T23:54:22.558379Z",
     "shell.execute_reply": "2024-09-16T23:54:22.557196Z"
    },
    "papermill": {
     "duration": 0.127886,
     "end_time": "2024-09-16T23:54:22.561010",
     "exception": false,
     "start_time": "2024-09-16T23:54:22.433124",
     "status": "completed"
    },
    "tags": []
   },
   "outputs": [
    {
     "data": {
      "text/html": [
       "<div>\n",
       "<style scoped>\n",
       "    .dataframe tbody tr th:only-of-type {\n",
       "        vertical-align: middle;\n",
       "    }\n",
       "\n",
       "    .dataframe tbody tr th {\n",
       "        vertical-align: top;\n",
       "    }\n",
       "\n",
       "    .dataframe thead th {\n",
       "        text-align: right;\n",
       "    }\n",
       "</style>\n",
       "<table border=\"1\" class=\"dataframe\">\n",
       "  <thead>\n",
       "    <tr style=\"text-align: right;\">\n",
       "      <th></th>\n",
       "      <th>GameRulesetName</th>\n",
       "      <th>agent1</th>\n",
       "      <th>agent2</th>\n",
       "      <th>Stochastic</th>\n",
       "      <th>Asymmetric</th>\n",
       "      <th>AsymmetricForces</th>\n",
       "      <th>AsymmetricPiecesType</th>\n",
       "      <th>PlayersWithDirections</th>\n",
       "      <th>Shape</th>\n",
       "      <th>SquareShape</th>\n",
       "      <th>...</th>\n",
       "      <th>SetPending</th>\n",
       "      <th>PlayerValue</th>\n",
       "      <th>Efficiency</th>\n",
       "      <th>CopyContext</th>\n",
       "      <th>Then</th>\n",
       "      <th>ForEachPiece</th>\n",
       "      <th>DoLudeme</th>\n",
       "      <th>PlayoutsPerSecond</th>\n",
       "      <th>MovesPerSecond</th>\n",
       "      <th>utility_agent1</th>\n",
       "    </tr>\n",
       "  </thead>\n",
       "  <tbody>\n",
       "    <tr>\n",
       "      <th>0</th>\n",
       "      <td>0</td>\n",
       "      <td>0</td>\n",
       "      <td>10</td>\n",
       "      <td>0</td>\n",
       "      <td>0</td>\n",
       "      <td>0</td>\n",
       "      <td>0</td>\n",
       "      <td>0</td>\n",
       "      <td>1</td>\n",
       "      <td>0</td>\n",
       "      <td>...</td>\n",
       "      <td>0</td>\n",
       "      <td>0</td>\n",
       "      <td>1</td>\n",
       "      <td>0</td>\n",
       "      <td>1</td>\n",
       "      <td>0</td>\n",
       "      <td>0</td>\n",
       "      <td>298.07</td>\n",
       "      <td>18877.17</td>\n",
       "      <td>-0.466667</td>\n",
       "    </tr>\n",
       "    <tr>\n",
       "      <th>1</th>\n",
       "      <td>0</td>\n",
       "      <td>0</td>\n",
       "      <td>45</td>\n",
       "      <td>0</td>\n",
       "      <td>0</td>\n",
       "      <td>0</td>\n",
       "      <td>0</td>\n",
       "      <td>0</td>\n",
       "      <td>1</td>\n",
       "      <td>0</td>\n",
       "      <td>...</td>\n",
       "      <td>0</td>\n",
       "      <td>0</td>\n",
       "      <td>1</td>\n",
       "      <td>0</td>\n",
       "      <td>1</td>\n",
       "      <td>0</td>\n",
       "      <td>0</td>\n",
       "      <td>298.07</td>\n",
       "      <td>18877.17</td>\n",
       "      <td>-0.333333</td>\n",
       "    </tr>\n",
       "    <tr>\n",
       "      <th>2</th>\n",
       "      <td>0</td>\n",
       "      <td>1</td>\n",
       "      <td>20</td>\n",
       "      <td>0</td>\n",
       "      <td>0</td>\n",
       "      <td>0</td>\n",
       "      <td>0</td>\n",
       "      <td>0</td>\n",
       "      <td>1</td>\n",
       "      <td>0</td>\n",
       "      <td>...</td>\n",
       "      <td>0</td>\n",
       "      <td>0</td>\n",
       "      <td>1</td>\n",
       "      <td>0</td>\n",
       "      <td>1</td>\n",
       "      <td>0</td>\n",
       "      <td>0</td>\n",
       "      <td>298.07</td>\n",
       "      <td>18877.17</td>\n",
       "      <td>-0.066667</td>\n",
       "    </tr>\n",
       "    <tr>\n",
       "      <th>3</th>\n",
       "      <td>0</td>\n",
       "      <td>1</td>\n",
       "      <td>26</td>\n",
       "      <td>0</td>\n",
       "      <td>0</td>\n",
       "      <td>0</td>\n",
       "      <td>0</td>\n",
       "      <td>0</td>\n",
       "      <td>1</td>\n",
       "      <td>0</td>\n",
       "      <td>...</td>\n",
       "      <td>0</td>\n",
       "      <td>0</td>\n",
       "      <td>1</td>\n",
       "      <td>0</td>\n",
       "      <td>1</td>\n",
       "      <td>0</td>\n",
       "      <td>0</td>\n",
       "      <td>298.07</td>\n",
       "      <td>18877.17</td>\n",
       "      <td>-0.333333</td>\n",
       "    </tr>\n",
       "    <tr>\n",
       "      <th>4</th>\n",
       "      <td>0</td>\n",
       "      <td>1</td>\n",
       "      <td>50</td>\n",
       "      <td>0</td>\n",
       "      <td>0</td>\n",
       "      <td>0</td>\n",
       "      <td>0</td>\n",
       "      <td>0</td>\n",
       "      <td>1</td>\n",
       "      <td>0</td>\n",
       "      <td>...</td>\n",
       "      <td>0</td>\n",
       "      <td>0</td>\n",
       "      <td>1</td>\n",
       "      <td>0</td>\n",
       "      <td>1</td>\n",
       "      <td>0</td>\n",
       "      <td>0</td>\n",
       "      <td>298.07</td>\n",
       "      <td>18877.17</td>\n",
       "      <td>-0.333333</td>\n",
       "    </tr>\n",
       "    <tr>\n",
       "      <th>...</th>\n",
       "      <td>...</td>\n",
       "      <td>...</td>\n",
       "      <td>...</td>\n",
       "      <td>...</td>\n",
       "      <td>...</td>\n",
       "      <td>...</td>\n",
       "      <td>...</td>\n",
       "      <td>...</td>\n",
       "      <td>...</td>\n",
       "      <td>...</td>\n",
       "      <td>...</td>\n",
       "      <td>...</td>\n",
       "      <td>...</td>\n",
       "      <td>...</td>\n",
       "      <td>...</td>\n",
       "      <td>...</td>\n",
       "      <td>...</td>\n",
       "      <td>...</td>\n",
       "      <td>...</td>\n",
       "      <td>...</td>\n",
       "      <td>...</td>\n",
       "    </tr>\n",
       "    <tr>\n",
       "      <th>233229</th>\n",
       "      <td>1376</td>\n",
       "      <td>68</td>\n",
       "      <td>16</td>\n",
       "      <td>0</td>\n",
       "      <td>0</td>\n",
       "      <td>0</td>\n",
       "      <td>0</td>\n",
       "      <td>0</td>\n",
       "      <td>1</td>\n",
       "      <td>1</td>\n",
       "      <td>...</td>\n",
       "      <td>0</td>\n",
       "      <td>0</td>\n",
       "      <td>1</td>\n",
       "      <td>0</td>\n",
       "      <td>1</td>\n",
       "      <td>1</td>\n",
       "      <td>0</td>\n",
       "      <td>157.52</td>\n",
       "      <td>157174.58</td>\n",
       "      <td>-0.733333</td>\n",
       "    </tr>\n",
       "    <tr>\n",
       "      <th>233230</th>\n",
       "      <td>1376</td>\n",
       "      <td>70</td>\n",
       "      <td>24</td>\n",
       "      <td>0</td>\n",
       "      <td>0</td>\n",
       "      <td>0</td>\n",
       "      <td>0</td>\n",
       "      <td>0</td>\n",
       "      <td>1</td>\n",
       "      <td>1</td>\n",
       "      <td>...</td>\n",
       "      <td>0</td>\n",
       "      <td>0</td>\n",
       "      <td>1</td>\n",
       "      <td>0</td>\n",
       "      <td>1</td>\n",
       "      <td>1</td>\n",
       "      <td>0</td>\n",
       "      <td>157.52</td>\n",
       "      <td>157174.58</td>\n",
       "      <td>0.266667</td>\n",
       "    </tr>\n",
       "    <tr>\n",
       "      <th>233231</th>\n",
       "      <td>1376</td>\n",
       "      <td>70</td>\n",
       "      <td>50</td>\n",
       "      <td>0</td>\n",
       "      <td>0</td>\n",
       "      <td>0</td>\n",
       "      <td>0</td>\n",
       "      <td>0</td>\n",
       "      <td>1</td>\n",
       "      <td>1</td>\n",
       "      <td>...</td>\n",
       "      <td>0</td>\n",
       "      <td>0</td>\n",
       "      <td>1</td>\n",
       "      <td>0</td>\n",
       "      <td>1</td>\n",
       "      <td>1</td>\n",
       "      <td>0</td>\n",
       "      <td>157.52</td>\n",
       "      <td>157174.58</td>\n",
       "      <td>0.666667</td>\n",
       "    </tr>\n",
       "    <tr>\n",
       "      <th>233232</th>\n",
       "      <td>1376</td>\n",
       "      <td>70</td>\n",
       "      <td>51</td>\n",
       "      <td>0</td>\n",
       "      <td>0</td>\n",
       "      <td>0</td>\n",
       "      <td>0</td>\n",
       "      <td>0</td>\n",
       "      <td>1</td>\n",
       "      <td>1</td>\n",
       "      <td>...</td>\n",
       "      <td>0</td>\n",
       "      <td>0</td>\n",
       "      <td>1</td>\n",
       "      <td>0</td>\n",
       "      <td>1</td>\n",
       "      <td>1</td>\n",
       "      <td>0</td>\n",
       "      <td>157.52</td>\n",
       "      <td>157174.58</td>\n",
       "      <td>0.666667</td>\n",
       "    </tr>\n",
       "    <tr>\n",
       "      <th>233233</th>\n",
       "      <td>1376</td>\n",
       "      <td>71</td>\n",
       "      <td>60</td>\n",
       "      <td>0</td>\n",
       "      <td>0</td>\n",
       "      <td>0</td>\n",
       "      <td>0</td>\n",
       "      <td>0</td>\n",
       "      <td>1</td>\n",
       "      <td>1</td>\n",
       "      <td>...</td>\n",
       "      <td>0</td>\n",
       "      <td>0</td>\n",
       "      <td>1</td>\n",
       "      <td>0</td>\n",
       "      <td>1</td>\n",
       "      <td>1</td>\n",
       "      <td>0</td>\n",
       "      <td>157.52</td>\n",
       "      <td>157174.58</td>\n",
       "      <td>0.266667</td>\n",
       "    </tr>\n",
       "  </tbody>\n",
       "</table>\n",
       "<p>233234 rows × 331 columns</p>\n",
       "</div>"
      ],
      "text/plain": [
       "        GameRulesetName  agent1  agent2  Stochastic  Asymmetric  \\\n",
       "0                     0       0      10           0           0   \n",
       "1                     0       0      45           0           0   \n",
       "2                     0       1      20           0           0   \n",
       "3                     0       1      26           0           0   \n",
       "4                     0       1      50           0           0   \n",
       "...                 ...     ...     ...         ...         ...   \n",
       "233229             1376      68      16           0           0   \n",
       "233230             1376      70      24           0           0   \n",
       "233231             1376      70      50           0           0   \n",
       "233232             1376      70      51           0           0   \n",
       "233233             1376      71      60           0           0   \n",
       "\n",
       "        AsymmetricForces  AsymmetricPiecesType  PlayersWithDirections  Shape  \\\n",
       "0                      0                     0                      0      1   \n",
       "1                      0                     0                      0      1   \n",
       "2                      0                     0                      0      1   \n",
       "3                      0                     0                      0      1   \n",
       "4                      0                     0                      0      1   \n",
       "...                  ...                   ...                    ...    ...   \n",
       "233229                 0                     0                      0      1   \n",
       "233230                 0                     0                      0      1   \n",
       "233231                 0                     0                      0      1   \n",
       "233232                 0                     0                      0      1   \n",
       "233233                 0                     0                      0      1   \n",
       "\n",
       "        SquareShape  ...  SetPending  PlayerValue  Efficiency  CopyContext  \\\n",
       "0                 0  ...           0            0           1            0   \n",
       "1                 0  ...           0            0           1            0   \n",
       "2                 0  ...           0            0           1            0   \n",
       "3                 0  ...           0            0           1            0   \n",
       "4                 0  ...           0            0           1            0   \n",
       "...             ...  ...         ...          ...         ...          ...   \n",
       "233229            1  ...           0            0           1            0   \n",
       "233230            1  ...           0            0           1            0   \n",
       "233231            1  ...           0            0           1            0   \n",
       "233232            1  ...           0            0           1            0   \n",
       "233233            1  ...           0            0           1            0   \n",
       "\n",
       "        Then  ForEachPiece  DoLudeme  PlayoutsPerSecond  MovesPerSecond  \\\n",
       "0          1             0         0             298.07        18877.17   \n",
       "1          1             0         0             298.07        18877.17   \n",
       "2          1             0         0             298.07        18877.17   \n",
       "3          1             0         0             298.07        18877.17   \n",
       "4          1             0         0             298.07        18877.17   \n",
       "...      ...           ...       ...                ...             ...   \n",
       "233229     1             1         0             157.52       157174.58   \n",
       "233230     1             1         0             157.52       157174.58   \n",
       "233231     1             1         0             157.52       157174.58   \n",
       "233232     1             1         0             157.52       157174.58   \n",
       "233233     1             1         0             157.52       157174.58   \n",
       "\n",
       "        utility_agent1  \n",
       "0            -0.466667  \n",
       "1            -0.333333  \n",
       "2            -0.066667  \n",
       "3            -0.333333  \n",
       "4            -0.333333  \n",
       "...                ...  \n",
       "233229       -0.733333  \n",
       "233230        0.266667  \n",
       "233231        0.666667  \n",
       "233232        0.666667  \n",
       "233233        0.266667  \n",
       "\n",
       "[233234 rows x 331 columns]"
      ]
     },
     "execution_count": 20,
     "metadata": {},
     "output_type": "execute_result"
    }
   ],
   "source": [
    "train"
   ]
  },
  {
   "cell_type": "code",
   "execution_count": 21,
   "id": "5daa82eb",
   "metadata": {
    "execution": {
     "iopub.execute_input": "2024-09-16T23:54:22.599344Z",
     "iopub.status.busy": "2024-09-16T23:54:22.598445Z",
     "iopub.status.idle": "2024-09-16T23:54:22.792640Z",
     "shell.execute_reply": "2024-09-16T23:54:22.791569Z"
    },
    "papermill": {
     "duration": 0.216316,
     "end_time": "2024-09-16T23:54:22.795373",
     "exception": false,
     "start_time": "2024-09-16T23:54:22.579057",
     "status": "completed"
    },
    "tags": []
   },
   "outputs": [],
   "source": [
    "X = train.drop('utility_agent1', axis=1)  # Features\n",
    "y = train['utility_agent1'] "
   ]
  },
  {
   "cell_type": "code",
   "execution_count": 22,
   "id": "8d92325f",
   "metadata": {
    "execution": {
     "iopub.execute_input": "2024-09-16T23:54:22.834145Z",
     "iopub.status.busy": "2024-09-16T23:54:22.833279Z",
     "iopub.status.idle": "2024-09-16T23:54:23.437291Z",
     "shell.execute_reply": "2024-09-16T23:54:23.436332Z"
    },
    "papermill": {
     "duration": 0.626557,
     "end_time": "2024-09-16T23:54:23.439983",
     "exception": false,
     "start_time": "2024-09-16T23:54:22.813426",
     "status": "completed"
    },
    "tags": []
   },
   "outputs": [],
   "source": [
    "X_train,X_valid,y_train,y_valid  =train_test_split(X, y, test_size=0.2, random_state=42)"
   ]
  },
  {
   "cell_type": "code",
   "execution_count": 23,
   "id": "111d31bc",
   "metadata": {
    "execution": {
     "iopub.execute_input": "2024-09-16T23:54:23.477524Z",
     "iopub.status.busy": "2024-09-16T23:54:23.476953Z",
     "iopub.status.idle": "2024-09-16T23:54:23.482362Z",
     "shell.execute_reply": "2024-09-16T23:54:23.481272Z"
    },
    "papermill": {
     "duration": 0.026902,
     "end_time": "2024-09-16T23:54:23.484726",
     "exception": false,
     "start_time": "2024-09-16T23:54:23.457824",
     "status": "completed"
    },
    "tags": []
   },
   "outputs": [],
   "source": [
    "model = XGBRegressor(n_estimators=1000, \n",
    "                     learning_rate=0.05, \n",
    "                     max_depth=6)\n",
    "\n"
   ]
  },
  {
   "cell_type": "code",
   "execution_count": 24,
   "id": "57de5d9f",
   "metadata": {
    "execution": {
     "iopub.execute_input": "2024-09-16T23:54:23.524938Z",
     "iopub.status.busy": "2024-09-16T23:54:23.524520Z",
     "iopub.status.idle": "2024-09-16T23:56:38.058641Z",
     "shell.execute_reply": "2024-09-16T23:56:38.057593Z"
    },
    "papermill": {
     "duration": 134.57388,
     "end_time": "2024-09-16T23:56:38.079003",
     "exception": false,
     "start_time": "2024-09-16T23:54:23.505123",
     "status": "completed"
    },
    "tags": []
   },
   "outputs": [
    {
     "data": {
      "text/html": [
       "<style>#sk-container-id-1 {color: black;background-color: white;}#sk-container-id-1 pre{padding: 0;}#sk-container-id-1 div.sk-toggleable {background-color: white;}#sk-container-id-1 label.sk-toggleable__label {cursor: pointer;display: block;width: 100%;margin-bottom: 0;padding: 0.3em;box-sizing: border-box;text-align: center;}#sk-container-id-1 label.sk-toggleable__label-arrow:before {content: \"▸\";float: left;margin-right: 0.25em;color: #696969;}#sk-container-id-1 label.sk-toggleable__label-arrow:hover:before {color: black;}#sk-container-id-1 div.sk-estimator:hover label.sk-toggleable__label-arrow:before {color: black;}#sk-container-id-1 div.sk-toggleable__content {max-height: 0;max-width: 0;overflow: hidden;text-align: left;background-color: #f0f8ff;}#sk-container-id-1 div.sk-toggleable__content pre {margin: 0.2em;color: black;border-radius: 0.25em;background-color: #f0f8ff;}#sk-container-id-1 input.sk-toggleable__control:checked~div.sk-toggleable__content {max-height: 200px;max-width: 100%;overflow: auto;}#sk-container-id-1 input.sk-toggleable__control:checked~label.sk-toggleable__label-arrow:before {content: \"▾\";}#sk-container-id-1 div.sk-estimator input.sk-toggleable__control:checked~label.sk-toggleable__label {background-color: #d4ebff;}#sk-container-id-1 div.sk-label input.sk-toggleable__control:checked~label.sk-toggleable__label {background-color: #d4ebff;}#sk-container-id-1 input.sk-hidden--visually {border: 0;clip: rect(1px 1px 1px 1px);clip: rect(1px, 1px, 1px, 1px);height: 1px;margin: -1px;overflow: hidden;padding: 0;position: absolute;width: 1px;}#sk-container-id-1 div.sk-estimator {font-family: monospace;background-color: #f0f8ff;border: 1px dotted black;border-radius: 0.25em;box-sizing: border-box;margin-bottom: 0.5em;}#sk-container-id-1 div.sk-estimator:hover {background-color: #d4ebff;}#sk-container-id-1 div.sk-parallel-item::after {content: \"\";width: 100%;border-bottom: 1px solid gray;flex-grow: 1;}#sk-container-id-1 div.sk-label:hover label.sk-toggleable__label {background-color: #d4ebff;}#sk-container-id-1 div.sk-serial::before {content: \"\";position: absolute;border-left: 1px solid gray;box-sizing: border-box;top: 0;bottom: 0;left: 50%;z-index: 0;}#sk-container-id-1 div.sk-serial {display: flex;flex-direction: column;align-items: center;background-color: white;padding-right: 0.2em;padding-left: 0.2em;position: relative;}#sk-container-id-1 div.sk-item {position: relative;z-index: 1;}#sk-container-id-1 div.sk-parallel {display: flex;align-items: stretch;justify-content: center;background-color: white;position: relative;}#sk-container-id-1 div.sk-item::before, #sk-container-id-1 div.sk-parallel-item::before {content: \"\";position: absolute;border-left: 1px solid gray;box-sizing: border-box;top: 0;bottom: 0;left: 50%;z-index: -1;}#sk-container-id-1 div.sk-parallel-item {display: flex;flex-direction: column;z-index: 1;position: relative;background-color: white;}#sk-container-id-1 div.sk-parallel-item:first-child::after {align-self: flex-end;width: 50%;}#sk-container-id-1 div.sk-parallel-item:last-child::after {align-self: flex-start;width: 50%;}#sk-container-id-1 div.sk-parallel-item:only-child::after {width: 0;}#sk-container-id-1 div.sk-dashed-wrapped {border: 1px dashed gray;margin: 0 0.4em 0.5em 0.4em;box-sizing: border-box;padding-bottom: 0.4em;background-color: white;}#sk-container-id-1 div.sk-label label {font-family: monospace;font-weight: bold;display: inline-block;line-height: 1.2em;}#sk-container-id-1 div.sk-label-container {text-align: center;}#sk-container-id-1 div.sk-container {/* jupyter's `normalize.less` sets `[hidden] { display: none; }` but bootstrap.min.css set `[hidden] { display: none !important; }` so we also need the `!important` here to be able to override the default hidden behavior on the sphinx rendered scikit-learn.org. See: https://github.com/scikit-learn/scikit-learn/issues/21755 */display: inline-block !important;position: relative;}#sk-container-id-1 div.sk-text-repr-fallback {display: none;}</style><div id=\"sk-container-id-1\" class=\"sk-top-container\"><div class=\"sk-text-repr-fallback\"><pre>XGBRegressor(base_score=None, booster=None, callbacks=None,\n",
       "             colsample_bylevel=None, colsample_bynode=None,\n",
       "             colsample_bytree=None, device=None, early_stopping_rounds=None,\n",
       "             enable_categorical=False, eval_metric=None, feature_types=None,\n",
       "             gamma=None, grow_policy=None, importance_type=None,\n",
       "             interaction_constraints=None, learning_rate=0.05, max_bin=None,\n",
       "             max_cat_threshold=None, max_cat_to_onehot=None,\n",
       "             max_delta_step=None, max_depth=6, max_leaves=None,\n",
       "             min_child_weight=None, missing=nan, monotone_constraints=None,\n",
       "             multi_strategy=None, n_estimators=1000, n_jobs=None,\n",
       "             num_parallel_tree=None, random_state=None, ...)</pre><b>In a Jupyter environment, please rerun this cell to show the HTML representation or trust the notebook. <br />On GitHub, the HTML representation is unable to render, please try loading this page with nbviewer.org.</b></div><div class=\"sk-container\" hidden><div class=\"sk-item\"><div class=\"sk-estimator sk-toggleable\"><input class=\"sk-toggleable__control sk-hidden--visually\" id=\"sk-estimator-id-1\" type=\"checkbox\" checked><label for=\"sk-estimator-id-1\" class=\"sk-toggleable__label sk-toggleable__label-arrow\">XGBRegressor</label><div class=\"sk-toggleable__content\"><pre>XGBRegressor(base_score=None, booster=None, callbacks=None,\n",
       "             colsample_bylevel=None, colsample_bynode=None,\n",
       "             colsample_bytree=None, device=None, early_stopping_rounds=None,\n",
       "             enable_categorical=False, eval_metric=None, feature_types=None,\n",
       "             gamma=None, grow_policy=None, importance_type=None,\n",
       "             interaction_constraints=None, learning_rate=0.05, max_bin=None,\n",
       "             max_cat_threshold=None, max_cat_to_onehot=None,\n",
       "             max_delta_step=None, max_depth=6, max_leaves=None,\n",
       "             min_child_weight=None, missing=nan, monotone_constraints=None,\n",
       "             multi_strategy=None, n_estimators=1000, n_jobs=None,\n",
       "             num_parallel_tree=None, random_state=None, ...)</pre></div></div></div></div></div>"
      ],
      "text/plain": [
       "XGBRegressor(base_score=None, booster=None, callbacks=None,\n",
       "             colsample_bylevel=None, colsample_bynode=None,\n",
       "             colsample_bytree=None, device=None, early_stopping_rounds=None,\n",
       "             enable_categorical=False, eval_metric=None, feature_types=None,\n",
       "             gamma=None, grow_policy=None, importance_type=None,\n",
       "             interaction_constraints=None, learning_rate=0.05, max_bin=None,\n",
       "             max_cat_threshold=None, max_cat_to_onehot=None,\n",
       "             max_delta_step=None, max_depth=6, max_leaves=None,\n",
       "             min_child_weight=None, missing=nan, monotone_constraints=None,\n",
       "             multi_strategy=None, n_estimators=1000, n_jobs=None,\n",
       "             num_parallel_tree=None, random_state=None, ...)"
      ]
     },
     "execution_count": 24,
     "metadata": {},
     "output_type": "execute_result"
    }
   ],
   "source": [
    "\n",
    "model.fit(X_train, y_train)"
   ]
  },
  {
   "cell_type": "code",
   "execution_count": 25,
   "id": "f5171853",
   "metadata": {
    "execution": {
     "iopub.execute_input": "2024-09-16T23:56:38.117197Z",
     "iopub.status.busy": "2024-09-16T23:56:38.116436Z",
     "iopub.status.idle": "2024-09-16T23:56:38.799778Z",
     "shell.execute_reply": "2024-09-16T23:56:38.798842Z"
    },
    "papermill": {
     "duration": 0.705493,
     "end_time": "2024-09-16T23:56:38.802383",
     "exception": false,
     "start_time": "2024-09-16T23:56:38.096890",
     "status": "completed"
    },
    "tags": []
   },
   "outputs": [],
   "source": [
    "test_predictions = model.predict(X_valid)"
   ]
  },
  {
   "cell_type": "code",
   "execution_count": null,
   "id": "009d5db1",
   "metadata": {
    "papermill": {
     "duration": 0.017259,
     "end_time": "2024-09-16T23:56:38.838938",
     "exception": false,
     "start_time": "2024-09-16T23:56:38.821679",
     "status": "completed"
    },
    "tags": []
   },
   "outputs": [],
   "source": []
  },
  {
   "cell_type": "code",
   "execution_count": 26,
   "id": "9a851894",
   "metadata": {
    "execution": {
     "iopub.execute_input": "2024-09-16T23:56:38.877490Z",
     "iopub.status.busy": "2024-09-16T23:56:38.877036Z",
     "iopub.status.idle": "2024-09-16T23:56:38.888370Z",
     "shell.execute_reply": "2024-09-16T23:56:38.887038Z"
    },
    "papermill": {
     "duration": 0.033144,
     "end_time": "2024-09-16T23:56:38.890646",
     "exception": false,
     "start_time": "2024-09-16T23:56:38.857502",
     "status": "completed"
    },
    "tags": []
   },
   "outputs": [
    {
     "name": "stdout",
     "output_type": "stream",
     "text": [
      "MAE: 0.24136939548768951\n",
      "MSE: 0.10729252890680142\n",
      "RMSE: 0.32755538296111303\n",
      "R^2: 0.7243493546676641\n"
     ]
    }
   ],
   "source": [
    "\n",
    "# Calculate metrics\n",
    "mae = mean_absolute_error(y_valid, test_predictions)\n",
    "mse = mean_squared_error(y_valid, test_predictions)\n",
    "rmse = mse ** 0.5\n",
    "r2 = r2_score(y_valid, test_predictions)\n",
    "\n",
    "print(f\"MAE: {mae}\")\n",
    "print(f\"MSE: {mse}\")\n",
    "print(f\"RMSE: {rmse}\")\n",
    "print(f\"R^2: {r2}\")"
   ]
  },
  {
   "cell_type": "code",
   "execution_count": null,
   "id": "f92ee020",
   "metadata": {
    "papermill": {
     "duration": 0.017802,
     "end_time": "2024-09-16T23:56:38.926722",
     "exception": false,
     "start_time": "2024-09-16T23:56:38.908920",
     "status": "completed"
    },
    "tags": []
   },
   "outputs": [],
   "source": []
  },
  {
   "cell_type": "code",
   "execution_count": null,
   "id": "bb8e8178",
   "metadata": {
    "papermill": {
     "duration": 0.017971,
     "end_time": "2024-09-16T23:56:38.962641",
     "exception": false,
     "start_time": "2024-09-16T23:56:38.944670",
     "status": "completed"
    },
    "tags": []
   },
   "outputs": [],
   "source": []
  },
  {
   "cell_type": "code",
   "execution_count": 27,
   "id": "7d669497",
   "metadata": {
    "execution": {
     "iopub.execute_input": "2024-09-16T23:56:39.001165Z",
     "iopub.status.busy": "2024-09-16T23:56:39.000705Z",
     "iopub.status.idle": "2024-09-16T23:56:39.007981Z",
     "shell.execute_reply": "2024-09-16T23:56:39.006939Z"
    },
    "papermill": {
     "duration": 0.029875,
     "end_time": "2024-09-16T23:56:39.010482",
     "exception": false,
     "start_time": "2024-09-16T23:56:38.980607",
     "status": "completed"
    },
    "tags": []
   },
   "outputs": [],
   "source": [
    "def clean_data(test_df):\n",
    "    \"\"\"\n",
    "    Cleans the test dataframe by converting all applicable columns to numeric and handling errors.\n",
    "    \"\"\"\n",
    "    test_df=test_df.drop(columns=drop_column, errors='ignore')\n",
    "    test_df[\"GameRulesetName\"] = le1.transform(test_df[\"GameRulesetName\"])\n",
    "    test_df[\"agent1\"] = le2.transform(test_df[\"agent1\"])\n",
    "    test_df[\"agent2\"] = le3.transform(test_df[\"agent2\"])\n",
    "    test_df = test_df.fillna(0)\n",
    "    return test_df"
   ]
  },
  {
   "cell_type": "code",
   "execution_count": 28,
   "id": "4763aa70",
   "metadata": {
    "execution": {
     "iopub.execute_input": "2024-09-16T23:56:39.050302Z",
     "iopub.status.busy": "2024-09-16T23:56:39.049818Z",
     "iopub.status.idle": "2024-09-16T23:56:39.056591Z",
     "shell.execute_reply": "2024-09-16T23:56:39.055523Z"
    },
    "papermill": {
     "duration": 0.030006,
     "end_time": "2024-09-16T23:56:39.058838",
     "exception": false,
     "start_time": "2024-09-16T23:56:39.028832",
     "status": "completed"
    },
    "tags": []
   },
   "outputs": [],
   "source": [
    "\n",
    "# Define the predict function as required by the MCTSInferenceServer\n",
    "def predict(test: pl.DataFrame, sample_sub: pl.DataFrame):\n",
    "    global model\n",
    "    test_df = test.to_pandas()\n",
    "\n",
    "    # Clean the data\n",
    "    test_df = clean_data(test_df)\n",
    "\n",
    "    # Make predictions using the trained model\n",
    "    predictions = model.predict(test_df)\n",
    "\n",
    "    # Summation step: add a constant value to the predictions\n",
    "    predictions = predictions + 0.123\n",
    "\n",
    "    # Prepare the final submission format\n",
    "    submission = sample_sub.with_columns(pl.Series(\"utility_agent1\", predictions))\n",
    "    \n",
    "    return submission\n"
   ]
  },
  {
   "cell_type": "code",
   "execution_count": 29,
   "id": "b612a35a",
   "metadata": {
    "execution": {
     "iopub.execute_input": "2024-09-16T23:56:39.155038Z",
     "iopub.status.busy": "2024-09-16T23:56:39.154623Z",
     "iopub.status.idle": "2024-09-16T23:56:39.583413Z",
     "shell.execute_reply": "2024-09-16T23:56:39.582237Z"
    },
    "papermill": {
     "duration": 0.450744,
     "end_time": "2024-09-16T23:56:39.586221",
     "exception": false,
     "start_time": "2024-09-16T23:56:39.135477",
     "status": "completed"
    },
    "tags": []
   },
   "outputs": [],
   "source": [
    "inference_server = kaggle_evaluation.mcts_inference_server.MCTSInferenceServer(predict)\n",
    "\n",
    "if os.getenv('KAGGLE_IS_COMPETITION_RERUN'):\n",
    "    inference_server.serve()\n",
    "else:\n",
    "    inference_server.run_local_gateway(\n",
    "        (\n",
    "            '/kaggle/input/um-game-playing-strength-of-mcts-variants/test.csv',\n",
    "            '/kaggle/input/um-game-playing-strength-of-mcts-variants/sample_submission.csv'\n",
    "        )\n",
    "    )"
   ]
  },
  {
   "cell_type": "code",
   "execution_count": null,
   "id": "eb987379",
   "metadata": {
    "papermill": {
     "duration": 0.017705,
     "end_time": "2024-09-16T23:56:39.622994",
     "exception": false,
     "start_time": "2024-09-16T23:56:39.605289",
     "status": "completed"
    },
    "tags": []
   },
   "outputs": [],
   "source": []
  },
  {
   "cell_type": "code",
   "execution_count": null,
   "id": "771a39ff",
   "metadata": {
    "papermill": {
     "duration": 0.018243,
     "end_time": "2024-09-16T23:56:39.659495",
     "exception": false,
     "start_time": "2024-09-16T23:56:39.641252",
     "status": "completed"
    },
    "tags": []
   },
   "outputs": [],
   "source": []
  },
  {
   "cell_type": "code",
   "execution_count": null,
   "id": "2cb69a24",
   "metadata": {
    "papermill": {
     "duration": 0.018133,
     "end_time": "2024-09-16T23:56:39.696220",
     "exception": false,
     "start_time": "2024-09-16T23:56:39.678087",
     "status": "completed"
    },
    "tags": []
   },
   "outputs": [],
   "source": []
  },
  {
   "cell_type": "code",
   "execution_count": null,
   "id": "84ca527c",
   "metadata": {
    "papermill": {
     "duration": 0.017113,
     "end_time": "2024-09-16T23:56:39.731152",
     "exception": false,
     "start_time": "2024-09-16T23:56:39.714039",
     "status": "completed"
    },
    "tags": []
   },
   "outputs": [],
   "source": []
  },
  {
   "cell_type": "code",
   "execution_count": null,
   "id": "69e95a05",
   "metadata": {
    "papermill": {
     "duration": 0.017982,
     "end_time": "2024-09-16T23:56:39.767036",
     "exception": false,
     "start_time": "2024-09-16T23:56:39.749054",
     "status": "completed"
    },
    "tags": []
   },
   "outputs": [],
   "source": []
  },
  {
   "cell_type": "code",
   "execution_count": null,
   "id": "4ff79792",
   "metadata": {
    "papermill": {
     "duration": 0.017623,
     "end_time": "2024-09-16T23:56:39.802352",
     "exception": false,
     "start_time": "2024-09-16T23:56:39.784729",
     "status": "completed"
    },
    "tags": []
   },
   "outputs": [],
   "source": []
  },
  {
   "cell_type": "code",
   "execution_count": null,
   "id": "6c893c12",
   "metadata": {
    "papermill": {
     "duration": 0.017793,
     "end_time": "2024-09-16T23:56:39.837812",
     "exception": false,
     "start_time": "2024-09-16T23:56:39.820019",
     "status": "completed"
    },
    "tags": []
   },
   "outputs": [],
   "source": []
  },
  {
   "cell_type": "code",
   "execution_count": null,
   "id": "191edee0",
   "metadata": {
    "papermill": {
     "duration": 0.017198,
     "end_time": "2024-09-16T23:56:39.872960",
     "exception": false,
     "start_time": "2024-09-16T23:56:39.855762",
     "status": "completed"
    },
    "tags": []
   },
   "outputs": [],
   "source": []
  },
  {
   "cell_type": "code",
   "execution_count": null,
   "id": "330b6d12",
   "metadata": {
    "papermill": {
     "duration": 0.017465,
     "end_time": "2024-09-16T23:56:39.907917",
     "exception": false,
     "start_time": "2024-09-16T23:56:39.890452",
     "status": "completed"
    },
    "tags": []
   },
   "outputs": [],
   "source": []
  },
  {
   "cell_type": "code",
   "execution_count": null,
   "id": "0eedd3f1",
   "metadata": {
    "papermill": {
     "duration": 0.017748,
     "end_time": "2024-09-16T23:56:39.943733",
     "exception": false,
     "start_time": "2024-09-16T23:56:39.925985",
     "status": "completed"
    },
    "tags": []
   },
   "outputs": [],
   "source": []
  },
  {
   "cell_type": "code",
   "execution_count": null,
   "id": "9c78d861",
   "metadata": {
    "papermill": {
     "duration": 0.017795,
     "end_time": "2024-09-16T23:56:39.979129",
     "exception": false,
     "start_time": "2024-09-16T23:56:39.961334",
     "status": "completed"
    },
    "tags": []
   },
   "outputs": [],
   "source": []
  },
  {
   "cell_type": "code",
   "execution_count": null,
   "id": "554bdd73",
   "metadata": {
    "papermill": {
     "duration": 0.017724,
     "end_time": "2024-09-16T23:56:40.015148",
     "exception": false,
     "start_time": "2024-09-16T23:56:39.997424",
     "status": "completed"
    },
    "tags": []
   },
   "outputs": [],
   "source": []
  },
  {
   "cell_type": "code",
   "execution_count": null,
   "id": "ba50115a",
   "metadata": {
    "papermill": {
     "duration": 0.018662,
     "end_time": "2024-09-16T23:56:40.051847",
     "exception": false,
     "start_time": "2024-09-16T23:56:40.033185",
     "status": "completed"
    },
    "tags": []
   },
   "outputs": [],
   "source": []
  },
  {
   "cell_type": "code",
   "execution_count": null,
   "id": "af34f6be",
   "metadata": {
    "papermill": {
     "duration": 0.01808,
     "end_time": "2024-09-16T23:56:40.087761",
     "exception": false,
     "start_time": "2024-09-16T23:56:40.069681",
     "status": "completed"
    },
    "tags": []
   },
   "outputs": [],
   "source": []
  },
  {
   "cell_type": "code",
   "execution_count": null,
   "id": "b9aed8d4",
   "metadata": {
    "papermill": {
     "duration": 0.01805,
     "end_time": "2024-09-16T23:56:40.124217",
     "exception": false,
     "start_time": "2024-09-16T23:56:40.106167",
     "status": "completed"
    },
    "tags": []
   },
   "outputs": [],
   "source": []
  },
  {
   "cell_type": "code",
   "execution_count": null,
   "id": "4246879e",
   "metadata": {
    "papermill": {
     "duration": 0.017967,
     "end_time": "2024-09-16T23:56:40.160457",
     "exception": false,
     "start_time": "2024-09-16T23:56:40.142490",
     "status": "completed"
    },
    "tags": []
   },
   "outputs": [],
   "source": []
  },
  {
   "cell_type": "code",
   "execution_count": null,
   "id": "24b088d7",
   "metadata": {
    "papermill": {
     "duration": 0.017827,
     "end_time": "2024-09-16T23:56:40.196558",
     "exception": false,
     "start_time": "2024-09-16T23:56:40.178731",
     "status": "completed"
    },
    "tags": []
   },
   "outputs": [],
   "source": []
  },
  {
   "cell_type": "code",
   "execution_count": null,
   "id": "d471bc63",
   "metadata": {
    "papermill": {
     "duration": 0.017782,
     "end_time": "2024-09-16T23:56:40.232663",
     "exception": false,
     "start_time": "2024-09-16T23:56:40.214881",
     "status": "completed"
    },
    "tags": []
   },
   "outputs": [],
   "source": []
  },
  {
   "cell_type": "code",
   "execution_count": null,
   "id": "a16d3ce2",
   "metadata": {
    "papermill": {
     "duration": 0.017842,
     "end_time": "2024-09-16T23:56:40.268533",
     "exception": false,
     "start_time": "2024-09-16T23:56:40.250691",
     "status": "completed"
    },
    "tags": []
   },
   "outputs": [],
   "source": []
  }
 ],
 "metadata": {
  "kaggle": {
   "accelerator": "none",
   "dataSources": [
    {
     "databundleVersionId": 9515283,
     "sourceId": 70089,
     "sourceType": "competition"
    }
   ],
   "dockerImageVersionId": 30761,
   "isGpuEnabled": false,
   "isInternetEnabled": false,
   "language": "python",
   "sourceType": "notebook"
  },
  "kernelspec": {
   "display_name": "Python 3",
   "language": "python",
   "name": "python3"
  },
  "language_info": {
   "codemirror_mode": {
    "name": "ipython",
    "version": 3
   },
   "file_extension": ".py",
   "mimetype": "text/x-python",
   "name": "python",
   "nbconvert_exporter": "python",
   "pygments_lexer": "ipython3",
   "version": "3.10.14"
  },
  "papermill": {
   "default_parameters": {},
   "duration": 198.41426,
   "end_time": "2024-09-16T23:56:41.208797",
   "environment_variables": {},
   "exception": null,
   "input_path": "__notebook__.ipynb",
   "output_path": "__notebook__.ipynb",
   "parameters": {},
   "start_time": "2024-09-16T23:53:22.794537",
   "version": "2.6.0"
  }
 },
 "nbformat": 4,
 "nbformat_minor": 5
}
